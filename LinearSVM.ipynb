{
 "cells": [
  {
   "cell_type": "markdown",
   "metadata": {},
   "source": [
    "# Amazon Fine Food Reviews Analysis\n",
    "\n",
    "\n",
    "Data Source: https://www.kaggle.com/snap/amazon-fine-food-reviews <br>\n",
    "\n",
    "EDA: https://nycdatascience.com/blog/student-works/amazon-fine-foods-visualization/\n",
    "\n",
    "\n",
    "The Amazon Fine Food Reviews dataset consists of reviews of fine foods from Amazon.<br>\n",
    "\n",
    "Number of reviews: 568,454<br>\n",
    "Number of users: 256,059<br>\n",
    "Number of products: 74,258<br>\n",
    "Timespan: Oct 1999 - Oct 2012<br>\n",
    "Number of Attributes/Columns in data: 10 \n",
    "\n",
    "Attribute Information:\n",
    "\n",
    "1. Id\n",
    "2. ProductId - unique identifier for the product\n",
    "3. UserId - unqiue identifier for the user\n",
    "4. ProfileName\n",
    "5. HelpfulnessNumerator - number of users who found the review helpful\n",
    "6. HelpfulnessDenominator - number of users who indicated whether they found the review helpful or not\n",
    "7. Score - rating between 1 and 5\n",
    "8. Time - timestamp for the review\n",
    "9. Summary - brief summary of the review\n",
    "10. Text - text of the review\n",
    "\n",
    "\n",
    "#### Objective:\n",
    "Given a review, determine whether the review is positive (rating of 4 or 5) or negative (rating of 1 or 2).\n",
    "\n",
    "<br>\n",
    "[Q] How to determine if a review is positive or negative?<br>\n",
    "<br> \n",
    "[Ans] We could use Score/Rating. A rating of 4 or 5 can be cosnidered as a positive review. A rating of 1 or 2 can be considered as negative one. A review of rating 3 is considered nuetral and such reviews are ignored from our analysis. This is an approximate and proxy way of determining the polarity (positivity/negativity) of a review.\n",
    "\n",
    "\n"
   ]
  },
  {
   "cell_type": "markdown",
   "metadata": {},
   "source": [
    "# [1]. Reading Data"
   ]
  },
  {
   "cell_type": "markdown",
   "metadata": {},
   "source": [
    "## [1.1] Loading the data\n",
    "\n",
    "The dataset is available in two forms\n",
    "1. .csv file\n",
    "2. SQLite Database\n",
    "\n",
    "In order to load the data, We have used the SQLITE dataset as it is easier to query the data and visualise the data efficiently.\n",
    "<br> \n",
    "\n",
    "Here as we only want to get the global sentiment of the recommendations (positive or negative), we will purposefully ignore all Scores equal to 3. If the score is above 3, then the recommendation wil be set to \"positive\". Otherwise, it will be set to \"negative\"."
   ]
  },
  {
   "cell_type": "code",
   "execution_count": 1,
   "metadata": {},
   "outputs": [
    {
     "name": "stderr",
     "output_type": "stream",
     "text": [
      "D:\\AAnaconda\\lib\\site-packages\\gensim\\utils.py:1212: UserWarning: detected Windows; aliasing chunkize to chunkize_serial\n",
      "  warnings.warn(\"detected Windows; aliasing chunkize to chunkize_serial\")\n"
     ]
    }
   ],
   "source": [
    "%matplotlib inline\n",
    "import warnings\n",
    "warnings.filterwarnings(\"ignore\")\n",
    "\n",
    "\n",
    "import sqlite3\n",
    "import pandas as pd\n",
    "import numpy as np\n",
    "import nltk\n",
    "import string\n",
    "import matplotlib.pyplot as plt\n",
    "import seaborn as sns\n",
    "from sklearn.feature_extraction.text import TfidfTransformer\n",
    "from sklearn.feature_extraction.text import TfidfVectorizer\n",
    "\n",
    "from sklearn.feature_extraction.text import CountVectorizer\n",
    "from sklearn.metrics import confusion_matrix\n",
    "from sklearn import metrics\n",
    "from sklearn.metrics import roc_curve, auc\n",
    "from nltk.stem.porter import PorterStemmer\n",
    "\n",
    "import re\n",
    "# Tutorial about Python regular expressions: https://pymotw.com/2/re/\n",
    "import string\n",
    "from nltk.corpus import stopwords\n",
    "from nltk.stem import PorterStemmer\n",
    "from nltk.stem.wordnet import WordNetLemmatizer\n",
    "\n",
    "from gensim.models import Word2Vec\n",
    "from gensim.models import KeyedVectors\n",
    "import pickle\n",
    "\n",
    "from tqdm import tqdm\n",
    "import os"
   ]
  },
  {
   "cell_type": "code",
   "execution_count": 2,
   "metadata": {},
   "outputs": [
    {
     "name": "stdout",
     "output_type": "stream",
     "text": [
      "Number of data points in our data (100000, 10)\n"
     ]
    },
    {
     "data": {
      "text/html": [
       "<div>\n",
       "<style scoped>\n",
       "    .dataframe tbody tr th:only-of-type {\n",
       "        vertical-align: middle;\n",
       "    }\n",
       "\n",
       "    .dataframe tbody tr th {\n",
       "        vertical-align: top;\n",
       "    }\n",
       "\n",
       "    .dataframe thead th {\n",
       "        text-align: right;\n",
       "    }\n",
       "</style>\n",
       "<table border=\"1\" class=\"dataframe\">\n",
       "  <thead>\n",
       "    <tr style=\"text-align: right;\">\n",
       "      <th></th>\n",
       "      <th>Id</th>\n",
       "      <th>ProductId</th>\n",
       "      <th>UserId</th>\n",
       "      <th>ProfileName</th>\n",
       "      <th>HelpfulnessNumerator</th>\n",
       "      <th>HelpfulnessDenominator</th>\n",
       "      <th>Score</th>\n",
       "      <th>Time</th>\n",
       "      <th>Summary</th>\n",
       "      <th>Text</th>\n",
       "    </tr>\n",
       "  </thead>\n",
       "  <tbody>\n",
       "    <tr>\n",
       "      <th>0</th>\n",
       "      <td>1</td>\n",
       "      <td>B001E4KFG0</td>\n",
       "      <td>A3SGXH7AUHU8GW</td>\n",
       "      <td>delmartian</td>\n",
       "      <td>1</td>\n",
       "      <td>1</td>\n",
       "      <td>1</td>\n",
       "      <td>1303862400</td>\n",
       "      <td>Good Quality Dog Food</td>\n",
       "      <td>I have bought several of the Vitality canned d...</td>\n",
       "    </tr>\n",
       "    <tr>\n",
       "      <th>1</th>\n",
       "      <td>2</td>\n",
       "      <td>B00813GRG4</td>\n",
       "      <td>A1D87F6ZCVE5NK</td>\n",
       "      <td>dll pa</td>\n",
       "      <td>0</td>\n",
       "      <td>0</td>\n",
       "      <td>0</td>\n",
       "      <td>1346976000</td>\n",
       "      <td>Not as Advertised</td>\n",
       "      <td>Product arrived labeled as Jumbo Salted Peanut...</td>\n",
       "    </tr>\n",
       "    <tr>\n",
       "      <th>2</th>\n",
       "      <td>3</td>\n",
       "      <td>B000LQOCH0</td>\n",
       "      <td>ABXLMWJIXXAIN</td>\n",
       "      <td>Natalia Corres \"Natalia Corres\"</td>\n",
       "      <td>1</td>\n",
       "      <td>1</td>\n",
       "      <td>1</td>\n",
       "      <td>1219017600</td>\n",
       "      <td>\"Delight\" says it all</td>\n",
       "      <td>This is a confection that has been around a fe...</td>\n",
       "    </tr>\n",
       "  </tbody>\n",
       "</table>\n",
       "</div>"
      ],
      "text/plain": [
       "   Id   ProductId          UserId                      ProfileName  \\\n",
       "0   1  B001E4KFG0  A3SGXH7AUHU8GW                       delmartian   \n",
       "1   2  B00813GRG4  A1D87F6ZCVE5NK                           dll pa   \n",
       "2   3  B000LQOCH0   ABXLMWJIXXAIN  Natalia Corres \"Natalia Corres\"   \n",
       "\n",
       "   HelpfulnessNumerator  HelpfulnessDenominator  Score        Time  \\\n",
       "0                     1                       1      1  1303862400   \n",
       "1                     0                       0      0  1346976000   \n",
       "2                     1                       1      1  1219017600   \n",
       "\n",
       "                 Summary                                               Text  \n",
       "0  Good Quality Dog Food  I have bought several of the Vitality canned d...  \n",
       "1      Not as Advertised  Product arrived labeled as Jumbo Salted Peanut...  \n",
       "2  \"Delight\" says it all  This is a confection that has been around a fe...  "
      ]
     },
     "execution_count": 2,
     "metadata": {},
     "output_type": "execute_result"
    }
   ],
   "source": [
    "# using SQLite Table to read data.\n",
    "con = sqlite3.connect('database.sqlite') \n",
    "\n",
    "# filtering only positive and negative reviews i.e. \n",
    "# not taking into consideration those reviews with Score=3\n",
    "# SELECT * FROM Reviews WHERE Score != 3 LIMIT 500000, will give top 500000 data points\n",
    "# you can change the number to any other number based on your computing power\n",
    "\n",
    "# filtered_data = pd.read_sql_query(\"\"\" SELECT * FROM Reviews WHERE Score != 3 LIMIT 500000\"\"\", con) \n",
    "# for tsne assignment you can take 5k data points\n",
    "\n",
    "filtered_data = pd.read_sql_query(\"\"\" SELECT * FROM Reviews WHERE Score != 3 LIMIT 100000\"\"\", con) \n",
    "\n",
    "# Give reviews with Score>3 a positive rating(1), and reviews with a score<3 a negative rating(0).\n",
    "def partition(x):\n",
    "    if x < 3:\n",
    "        return 0\n",
    "    return 1\n",
    "\n",
    "#changing reviews with score less than 3 to be positive and vice-versa\n",
    "actualScore = filtered_data['Score']\n",
    "positiveNegative = actualScore.map(partition) \n",
    "filtered_data['Score'] = positiveNegative\n",
    "print(\"Number of data points in our data\", filtered_data.shape)\n",
    "filtered_data.head(3)"
   ]
  },
  {
   "cell_type": "code",
   "execution_count": 3,
   "metadata": {},
   "outputs": [],
   "source": [
    "display = pd.read_sql_query(\"\"\"\n",
    "SELECT UserId, ProductId, ProfileName, Time, Score, Text, COUNT(*)\n",
    "FROM Reviews\n",
    "GROUP BY UserId\n",
    "HAVING COUNT(*)>1\n",
    "\"\"\", con)"
   ]
  },
  {
   "cell_type": "code",
   "execution_count": 4,
   "metadata": {
    "scrolled": true
   },
   "outputs": [
    {
     "name": "stdout",
     "output_type": "stream",
     "text": [
      "(80668, 7)\n"
     ]
    },
    {
     "data": {
      "text/html": [
       "<div>\n",
       "<style scoped>\n",
       "    .dataframe tbody tr th:only-of-type {\n",
       "        vertical-align: middle;\n",
       "    }\n",
       "\n",
       "    .dataframe tbody tr th {\n",
       "        vertical-align: top;\n",
       "    }\n",
       "\n",
       "    .dataframe thead th {\n",
       "        text-align: right;\n",
       "    }\n",
       "</style>\n",
       "<table border=\"1\" class=\"dataframe\">\n",
       "  <thead>\n",
       "    <tr style=\"text-align: right;\">\n",
       "      <th></th>\n",
       "      <th>UserId</th>\n",
       "      <th>ProductId</th>\n",
       "      <th>ProfileName</th>\n",
       "      <th>Time</th>\n",
       "      <th>Score</th>\n",
       "      <th>Text</th>\n",
       "      <th>COUNT(*)</th>\n",
       "    </tr>\n",
       "  </thead>\n",
       "  <tbody>\n",
       "    <tr>\n",
       "      <th>0</th>\n",
       "      <td>#oc-R115TNMSPFT9I7</td>\n",
       "      <td>B005ZBZLT4</td>\n",
       "      <td>Breyton</td>\n",
       "      <td>1331510400</td>\n",
       "      <td>2</td>\n",
       "      <td>Overall its just OK when considering the price...</td>\n",
       "      <td>2</td>\n",
       "    </tr>\n",
       "    <tr>\n",
       "      <th>1</th>\n",
       "      <td>#oc-R11D9D7SHXIJB9</td>\n",
       "      <td>B005HG9ESG</td>\n",
       "      <td>Louis E. Emory \"hoppy\"</td>\n",
       "      <td>1342396800</td>\n",
       "      <td>5</td>\n",
       "      <td>My wife has recurring extreme muscle spasms, u...</td>\n",
       "      <td>3</td>\n",
       "    </tr>\n",
       "    <tr>\n",
       "      <th>2</th>\n",
       "      <td>#oc-R11DNU2NBKQ23Z</td>\n",
       "      <td>B005ZBZLT4</td>\n",
       "      <td>Kim Cieszykowski</td>\n",
       "      <td>1348531200</td>\n",
       "      <td>1</td>\n",
       "      <td>This coffee is horrible and unfortunately not ...</td>\n",
       "      <td>2</td>\n",
       "    </tr>\n",
       "    <tr>\n",
       "      <th>3</th>\n",
       "      <td>#oc-R11O5J5ZVQE25C</td>\n",
       "      <td>B005HG9ESG</td>\n",
       "      <td>Penguin Chick</td>\n",
       "      <td>1346889600</td>\n",
       "      <td>5</td>\n",
       "      <td>This will be the bottle that you grab from the...</td>\n",
       "      <td>3</td>\n",
       "    </tr>\n",
       "    <tr>\n",
       "      <th>4</th>\n",
       "      <td>#oc-R12KPBODL2B5ZD</td>\n",
       "      <td>B007OSBEV0</td>\n",
       "      <td>Christopher P. Presta</td>\n",
       "      <td>1348617600</td>\n",
       "      <td>1</td>\n",
       "      <td>I didnt like this coffee. Instead of telling y...</td>\n",
       "      <td>2</td>\n",
       "    </tr>\n",
       "  </tbody>\n",
       "</table>\n",
       "</div>"
      ],
      "text/plain": [
       "               UserId   ProductId             ProfileName        Time  Score  \\\n",
       "0  #oc-R115TNMSPFT9I7  B005ZBZLT4                 Breyton  1331510400      2   \n",
       "1  #oc-R11D9D7SHXIJB9  B005HG9ESG  Louis E. Emory \"hoppy\"  1342396800      5   \n",
       "2  #oc-R11DNU2NBKQ23Z  B005ZBZLT4        Kim Cieszykowski  1348531200      1   \n",
       "3  #oc-R11O5J5ZVQE25C  B005HG9ESG           Penguin Chick  1346889600      5   \n",
       "4  #oc-R12KPBODL2B5ZD  B007OSBEV0   Christopher P. Presta  1348617600      1   \n",
       "\n",
       "                                                Text  COUNT(*)  \n",
       "0  Overall its just OK when considering the price...         2  \n",
       "1  My wife has recurring extreme muscle spasms, u...         3  \n",
       "2  This coffee is horrible and unfortunately not ...         2  \n",
       "3  This will be the bottle that you grab from the...         3  \n",
       "4  I didnt like this coffee. Instead of telling y...         2  "
      ]
     },
     "execution_count": 4,
     "metadata": {},
     "output_type": "execute_result"
    }
   ],
   "source": [
    "print(display.shape)\n",
    "display.head()"
   ]
  },
  {
   "cell_type": "code",
   "execution_count": 5,
   "metadata": {},
   "outputs": [
    {
     "data": {
      "text/html": [
       "<div>\n",
       "<style scoped>\n",
       "    .dataframe tbody tr th:only-of-type {\n",
       "        vertical-align: middle;\n",
       "    }\n",
       "\n",
       "    .dataframe tbody tr th {\n",
       "        vertical-align: top;\n",
       "    }\n",
       "\n",
       "    .dataframe thead th {\n",
       "        text-align: right;\n",
       "    }\n",
       "</style>\n",
       "<table border=\"1\" class=\"dataframe\">\n",
       "  <thead>\n",
       "    <tr style=\"text-align: right;\">\n",
       "      <th></th>\n",
       "      <th>UserId</th>\n",
       "      <th>ProductId</th>\n",
       "      <th>ProfileName</th>\n",
       "      <th>Time</th>\n",
       "      <th>Score</th>\n",
       "      <th>Text</th>\n",
       "      <th>COUNT(*)</th>\n",
       "    </tr>\n",
       "  </thead>\n",
       "  <tbody>\n",
       "    <tr>\n",
       "      <th>80638</th>\n",
       "      <td>AZY10LLTJ71NX</td>\n",
       "      <td>B001ATMQK2</td>\n",
       "      <td>undertheshrine \"undertheshrine\"</td>\n",
       "      <td>1296691200</td>\n",
       "      <td>5</td>\n",
       "      <td>I bought this 6 pack because for the price tha...</td>\n",
       "      <td>5</td>\n",
       "    </tr>\n",
       "  </tbody>\n",
       "</table>\n",
       "</div>"
      ],
      "text/plain": [
       "              UserId   ProductId                      ProfileName        Time  \\\n",
       "80638  AZY10LLTJ71NX  B001ATMQK2  undertheshrine \"undertheshrine\"  1296691200   \n",
       "\n",
       "       Score                                               Text  COUNT(*)  \n",
       "80638      5  I bought this 6 pack because for the price tha...         5  "
      ]
     },
     "execution_count": 5,
     "metadata": {},
     "output_type": "execute_result"
    }
   ],
   "source": [
    "display[display['UserId']=='AZY10LLTJ71NX']"
   ]
  },
  {
   "cell_type": "code",
   "execution_count": 6,
   "metadata": {},
   "outputs": [
    {
     "data": {
      "text/plain": [
       "393063"
      ]
     },
     "execution_count": 6,
     "metadata": {},
     "output_type": "execute_result"
    }
   ],
   "source": [
    "display['COUNT(*)'].sum()"
   ]
  },
  {
   "cell_type": "markdown",
   "metadata": {},
   "source": [
    "#  [2] Exploratory Data Analysis"
   ]
  },
  {
   "cell_type": "markdown",
   "metadata": {},
   "source": [
    "## [2.1] Data Cleaning: Deduplication\n",
    "\n",
    "It is observed (as shown in the table below) that the reviews data had many duplicate entries. Hence it was necessary to remove duplicates in order to get unbiased results for the analysis of the data.  Following is an example:"
   ]
  },
  {
   "cell_type": "code",
   "execution_count": 7,
   "metadata": {
    "scrolled": false
   },
   "outputs": [
    {
     "data": {
      "text/html": [
       "<div>\n",
       "<style scoped>\n",
       "    .dataframe tbody tr th:only-of-type {\n",
       "        vertical-align: middle;\n",
       "    }\n",
       "\n",
       "    .dataframe tbody tr th {\n",
       "        vertical-align: top;\n",
       "    }\n",
       "\n",
       "    .dataframe thead th {\n",
       "        text-align: right;\n",
       "    }\n",
       "</style>\n",
       "<table border=\"1\" class=\"dataframe\">\n",
       "  <thead>\n",
       "    <tr style=\"text-align: right;\">\n",
       "      <th></th>\n",
       "      <th>Id</th>\n",
       "      <th>ProductId</th>\n",
       "      <th>UserId</th>\n",
       "      <th>ProfileName</th>\n",
       "      <th>HelpfulnessNumerator</th>\n",
       "      <th>HelpfulnessDenominator</th>\n",
       "      <th>Score</th>\n",
       "      <th>Time</th>\n",
       "      <th>Summary</th>\n",
       "      <th>Text</th>\n",
       "    </tr>\n",
       "  </thead>\n",
       "  <tbody>\n",
       "    <tr>\n",
       "      <th>0</th>\n",
       "      <td>78445</td>\n",
       "      <td>B000HDL1RQ</td>\n",
       "      <td>AR5J8UI46CURR</td>\n",
       "      <td>Geetha Krishnan</td>\n",
       "      <td>2</td>\n",
       "      <td>2</td>\n",
       "      <td>5</td>\n",
       "      <td>1199577600</td>\n",
       "      <td>LOACKER QUADRATINI VANILLA WAFERS</td>\n",
       "      <td>DELICIOUS WAFERS. I FIND THAT EUROPEAN WAFERS ...</td>\n",
       "    </tr>\n",
       "    <tr>\n",
       "      <th>1</th>\n",
       "      <td>138317</td>\n",
       "      <td>B000HDOPYC</td>\n",
       "      <td>AR5J8UI46CURR</td>\n",
       "      <td>Geetha Krishnan</td>\n",
       "      <td>2</td>\n",
       "      <td>2</td>\n",
       "      <td>5</td>\n",
       "      <td>1199577600</td>\n",
       "      <td>LOACKER QUADRATINI VANILLA WAFERS</td>\n",
       "      <td>DELICIOUS WAFERS. I FIND THAT EUROPEAN WAFERS ...</td>\n",
       "    </tr>\n",
       "    <tr>\n",
       "      <th>2</th>\n",
       "      <td>138277</td>\n",
       "      <td>B000HDOPYM</td>\n",
       "      <td>AR5J8UI46CURR</td>\n",
       "      <td>Geetha Krishnan</td>\n",
       "      <td>2</td>\n",
       "      <td>2</td>\n",
       "      <td>5</td>\n",
       "      <td>1199577600</td>\n",
       "      <td>LOACKER QUADRATINI VANILLA WAFERS</td>\n",
       "      <td>DELICIOUS WAFERS. I FIND THAT EUROPEAN WAFERS ...</td>\n",
       "    </tr>\n",
       "    <tr>\n",
       "      <th>3</th>\n",
       "      <td>73791</td>\n",
       "      <td>B000HDOPZG</td>\n",
       "      <td>AR5J8UI46CURR</td>\n",
       "      <td>Geetha Krishnan</td>\n",
       "      <td>2</td>\n",
       "      <td>2</td>\n",
       "      <td>5</td>\n",
       "      <td>1199577600</td>\n",
       "      <td>LOACKER QUADRATINI VANILLA WAFERS</td>\n",
       "      <td>DELICIOUS WAFERS. I FIND THAT EUROPEAN WAFERS ...</td>\n",
       "    </tr>\n",
       "    <tr>\n",
       "      <th>4</th>\n",
       "      <td>155049</td>\n",
       "      <td>B000PAQ75C</td>\n",
       "      <td>AR5J8UI46CURR</td>\n",
       "      <td>Geetha Krishnan</td>\n",
       "      <td>2</td>\n",
       "      <td>2</td>\n",
       "      <td>5</td>\n",
       "      <td>1199577600</td>\n",
       "      <td>LOACKER QUADRATINI VANILLA WAFERS</td>\n",
       "      <td>DELICIOUS WAFERS. I FIND THAT EUROPEAN WAFERS ...</td>\n",
       "    </tr>\n",
       "  </tbody>\n",
       "</table>\n",
       "</div>"
      ],
      "text/plain": [
       "       Id   ProductId         UserId      ProfileName  HelpfulnessNumerator  \\\n",
       "0   78445  B000HDL1RQ  AR5J8UI46CURR  Geetha Krishnan                     2   \n",
       "1  138317  B000HDOPYC  AR5J8UI46CURR  Geetha Krishnan                     2   \n",
       "2  138277  B000HDOPYM  AR5J8UI46CURR  Geetha Krishnan                     2   \n",
       "3   73791  B000HDOPZG  AR5J8UI46CURR  Geetha Krishnan                     2   \n",
       "4  155049  B000PAQ75C  AR5J8UI46CURR  Geetha Krishnan                     2   \n",
       "\n",
       "   HelpfulnessDenominator  Score        Time  \\\n",
       "0                       2      5  1199577600   \n",
       "1                       2      5  1199577600   \n",
       "2                       2      5  1199577600   \n",
       "3                       2      5  1199577600   \n",
       "4                       2      5  1199577600   \n",
       "\n",
       "                             Summary  \\\n",
       "0  LOACKER QUADRATINI VANILLA WAFERS   \n",
       "1  LOACKER QUADRATINI VANILLA WAFERS   \n",
       "2  LOACKER QUADRATINI VANILLA WAFERS   \n",
       "3  LOACKER QUADRATINI VANILLA WAFERS   \n",
       "4  LOACKER QUADRATINI VANILLA WAFERS   \n",
       "\n",
       "                                                Text  \n",
       "0  DELICIOUS WAFERS. I FIND THAT EUROPEAN WAFERS ...  \n",
       "1  DELICIOUS WAFERS. I FIND THAT EUROPEAN WAFERS ...  \n",
       "2  DELICIOUS WAFERS. I FIND THAT EUROPEAN WAFERS ...  \n",
       "3  DELICIOUS WAFERS. I FIND THAT EUROPEAN WAFERS ...  \n",
       "4  DELICIOUS WAFERS. I FIND THAT EUROPEAN WAFERS ...  "
      ]
     },
     "execution_count": 7,
     "metadata": {},
     "output_type": "execute_result"
    }
   ],
   "source": [
    "display= pd.read_sql_query(\"\"\"\n",
    "SELECT *\n",
    "FROM Reviews\n",
    "WHERE Score != 3 AND UserId=\"AR5J8UI46CURR\"\n",
    "ORDER BY ProductID\n",
    "\"\"\", con)\n",
    "display.head()"
   ]
  },
  {
   "cell_type": "markdown",
   "metadata": {},
   "source": [
    "As it can be seen above that same user has multiple reviews with same values for HelpfulnessNumerator, HelpfulnessDenominator, Score, Time, Summary and Text and on doing analysis it was found that <br>\n",
    "<br> \n",
    "ProductId=B000HDOPZG was Loacker Quadratini Vanilla Wafer Cookies, 8.82-Ounce Packages (Pack of 8)<br>\n",
    "<br> \n",
    "ProductId=B000HDL1RQ was Loacker Quadratini Lemon Wafer Cookies, 8.82-Ounce Packages (Pack of 8) and so on<br>\n",
    "\n",
    "It was inferred after analysis that reviews with same parameters other than ProductId belonged to the same product just having different flavour or quantity. Hence in order to reduce redundancy it was decided to eliminate the rows having same parameters.<br>\n",
    "\n",
    "The method used for the same was that we first sort the data according to ProductId and then just keep the first similar product review and delelte the others. for eg. in the above just the review for ProductId=B000HDL1RQ remains. This method ensures that there is only one representative for each product and deduplication without sorting would lead to possibility of different representatives still existing for the same product."
   ]
  },
  {
   "cell_type": "code",
   "execution_count": 8,
   "metadata": {},
   "outputs": [],
   "source": [
    "#Sorting data according to ProductId in ascending order\n",
    "sorted_data=filtered_data.sort_values('ProductId', axis=0, ascending=True, inplace=False, kind='quicksort', na_position='last')"
   ]
  },
  {
   "cell_type": "code",
   "execution_count": 9,
   "metadata": {},
   "outputs": [
    {
     "data": {
      "text/plain": [
       "(87775, 10)"
      ]
     },
     "execution_count": 9,
     "metadata": {},
     "output_type": "execute_result"
    }
   ],
   "source": [
    "#Deduplication of entries\n",
    "final=sorted_data.drop_duplicates(subset={\"UserId\",\"ProfileName\",\"Time\",\"Text\"}, keep='first', inplace=False)\n",
    "final.shape"
   ]
  },
  {
   "cell_type": "code",
   "execution_count": 10,
   "metadata": {},
   "outputs": [
    {
     "data": {
      "text/plain": [
       "87.775"
      ]
     },
     "execution_count": 10,
     "metadata": {},
     "output_type": "execute_result"
    }
   ],
   "source": [
    "#Checking to see how much % of data still remains\n",
    "(final['Id'].size*1.0)/(filtered_data['Id'].size*1.0)*100"
   ]
  },
  {
   "cell_type": "markdown",
   "metadata": {},
   "source": [
    "<b>Observation:-</b> It was also seen that in two rows given below the value of HelpfulnessNumerator is greater than HelpfulnessDenominator which is not practically possible hence these two rows too are removed from calcualtions"
   ]
  },
  {
   "cell_type": "code",
   "execution_count": 11,
   "metadata": {},
   "outputs": [
    {
     "data": {
      "text/html": [
       "<div>\n",
       "<style scoped>\n",
       "    .dataframe tbody tr th:only-of-type {\n",
       "        vertical-align: middle;\n",
       "    }\n",
       "\n",
       "    .dataframe tbody tr th {\n",
       "        vertical-align: top;\n",
       "    }\n",
       "\n",
       "    .dataframe thead th {\n",
       "        text-align: right;\n",
       "    }\n",
       "</style>\n",
       "<table border=\"1\" class=\"dataframe\">\n",
       "  <thead>\n",
       "    <tr style=\"text-align: right;\">\n",
       "      <th></th>\n",
       "      <th>Id</th>\n",
       "      <th>ProductId</th>\n",
       "      <th>UserId</th>\n",
       "      <th>ProfileName</th>\n",
       "      <th>HelpfulnessNumerator</th>\n",
       "      <th>HelpfulnessDenominator</th>\n",
       "      <th>Score</th>\n",
       "      <th>Time</th>\n",
       "      <th>Summary</th>\n",
       "      <th>Text</th>\n",
       "    </tr>\n",
       "  </thead>\n",
       "  <tbody>\n",
       "    <tr>\n",
       "      <th>0</th>\n",
       "      <td>64422</td>\n",
       "      <td>B000MIDROQ</td>\n",
       "      <td>A161DK06JJMCYF</td>\n",
       "      <td>J. E. Stephens \"Jeanne\"</td>\n",
       "      <td>3</td>\n",
       "      <td>1</td>\n",
       "      <td>5</td>\n",
       "      <td>1224892800</td>\n",
       "      <td>Bought This for My Son at College</td>\n",
       "      <td>My son loves spaghetti so I didn't hesitate or...</td>\n",
       "    </tr>\n",
       "    <tr>\n",
       "      <th>1</th>\n",
       "      <td>44737</td>\n",
       "      <td>B001EQ55RW</td>\n",
       "      <td>A2V0I904FH7ABY</td>\n",
       "      <td>Ram</td>\n",
       "      <td>3</td>\n",
       "      <td>2</td>\n",
       "      <td>4</td>\n",
       "      <td>1212883200</td>\n",
       "      <td>Pure cocoa taste with crunchy almonds inside</td>\n",
       "      <td>It was almost a 'love at first bite' - the per...</td>\n",
       "    </tr>\n",
       "  </tbody>\n",
       "</table>\n",
       "</div>"
      ],
      "text/plain": [
       "      Id   ProductId          UserId              ProfileName  \\\n",
       "0  64422  B000MIDROQ  A161DK06JJMCYF  J. E. Stephens \"Jeanne\"   \n",
       "1  44737  B001EQ55RW  A2V0I904FH7ABY                      Ram   \n",
       "\n",
       "   HelpfulnessNumerator  HelpfulnessDenominator  Score        Time  \\\n",
       "0                     3                       1      5  1224892800   \n",
       "1                     3                       2      4  1212883200   \n",
       "\n",
       "                                        Summary  \\\n",
       "0             Bought This for My Son at College   \n",
       "1  Pure cocoa taste with crunchy almonds inside   \n",
       "\n",
       "                                                Text  \n",
       "0  My son loves spaghetti so I didn't hesitate or...  \n",
       "1  It was almost a 'love at first bite' - the per...  "
      ]
     },
     "execution_count": 11,
     "metadata": {},
     "output_type": "execute_result"
    }
   ],
   "source": [
    "display= pd.read_sql_query(\"\"\"\n",
    "SELECT *\n",
    "FROM Reviews\n",
    "WHERE Score != 3 AND Id=44737 OR Id=64422\n",
    "ORDER BY ProductID\n",
    "\"\"\", con)\n",
    "\n",
    "display.head()"
   ]
  },
  {
   "cell_type": "code",
   "execution_count": 12,
   "metadata": {},
   "outputs": [],
   "source": [
    "final=final[final.HelpfulnessNumerator<=final.HelpfulnessDenominator]"
   ]
  },
  {
   "cell_type": "code",
   "execution_count": 13,
   "metadata": {},
   "outputs": [
    {
     "name": "stdout",
     "output_type": "stream",
     "text": [
      "(87773, 10)\n"
     ]
    },
    {
     "data": {
      "text/plain": [
       "1    73592\n",
       "0    14181\n",
       "Name: Score, dtype: int64"
      ]
     },
     "execution_count": 13,
     "metadata": {},
     "output_type": "execute_result"
    }
   ],
   "source": [
    "#Before starting the next phase of preprocessing lets see the number of entries left\n",
    "print(final.shape)\n",
    "\n",
    "#How many positive and negative reviews are present in our dataset?\n",
    "final['Score'].value_counts()"
   ]
  },
  {
   "cell_type": "markdown",
   "metadata": {},
   "source": [
    "#  [3] Preprocessing"
   ]
  },
  {
   "cell_type": "markdown",
   "metadata": {},
   "source": [
    "## [3.1].  Preprocessing Review Text\n",
    "\n",
    "Now that we have finished deduplication our data requires some preprocessing before we go on further with analysis and making the prediction model.\n",
    "\n",
    "Hence in the Preprocessing phase we do the following in the order below:-\n",
    "\n",
    "1. Begin by removing the html tags\n",
    "2. Remove any punctuations or limited set of special characters like , or . or # etc.\n",
    "3. Check if the word is made up of english letters and is not alpha-numeric\n",
    "4. Check to see if the length of the word is greater than 2 (as it was researched that there is no adjective in 2-letters)\n",
    "5. Convert the word to lowercase\n",
    "6. Remove Stopwords\n",
    "7. Finally Snowball Stemming the word (it was obsereved to be better than Porter Stemming)<br>\n",
    "\n",
    "After which we collect the words used to describe positive and negative reviews"
   ]
  },
  {
   "cell_type": "code",
   "execution_count": 14,
   "metadata": {},
   "outputs": [
    {
     "name": "stdout",
     "output_type": "stream",
     "text": [
      "My dogs loves this chicken but its a product from China, so we wont be buying it anymore.  Its very hard to find any chicken products made in the USA but they are out there, but this one isnt.  Its too bad too because its a good product but I wont take any chances till they know what is going on with the china imports.\n",
      "==================================================\n",
      "The Candy Blocks were a nice visual for the Lego Birthday party but the candy has little taste to it.  Very little of the 2 lbs that I bought were eaten and I threw the rest away.  I would not buy the candy again.\n",
      "==================================================\n",
      "was way to hot for my blood, took a bite and did a jig  lol\n",
      "==================================================\n",
      "My dog LOVES these treats. They tend to have a very strong fish oil smell. So if you are afraid of the fishy smell, don't get it. But I think my dog likes it because of the smell. These treats are really small in size. They are great for training. You can give your dog several of these without worrying about him over eating. Amazon's price was much more reasonable than any other retailer. You can buy a 1 pound bag on Amazon for almost the same price as a 6 ounce bag at other retailers. It's definitely worth it to buy a big bag if your dog eats them a lot.\n",
      "==================================================\n"
     ]
    }
   ],
   "source": [
    "# printing some random reviews\n",
    "sent_0 = final['Text'].values[0]\n",
    "print(sent_0)\n",
    "print(\"=\"*50)\n",
    "\n",
    "sent_1000 = final['Text'].values[1000]\n",
    "print(sent_1000)\n",
    "print(\"=\"*50)\n",
    "\n",
    "sent_1500 = final['Text'].values[1500]\n",
    "print(sent_1500)\n",
    "print(\"=\"*50)\n",
    "\n",
    "sent_4900 = final['Text'].values[4900]\n",
    "print(sent_4900)\n",
    "print(\"=\"*50)"
   ]
  },
  {
   "cell_type": "code",
   "execution_count": 15,
   "metadata": {},
   "outputs": [
    {
     "name": "stdout",
     "output_type": "stream",
     "text": [
      "My dogs loves this chicken but its a product from China, so we wont be buying it anymore.  Its very hard to find any chicken products made in the USA but they are out there, but this one isnt.  Its too bad too because its a good product but I wont take any chances till they know what is going on with the china imports.\n"
     ]
    }
   ],
   "source": [
    "# remove urls from text python: https://stackoverflow.com/a/40823105/4084039\n",
    "sent_0 = re.sub(r\"http\\S+\", \"\", sent_0)\n",
    "sent_1000 = re.sub(r\"http\\S+\", \"\", sent_1000)\n",
    "sent_150 = re.sub(r\"http\\S+\", \"\", sent_1500)\n",
    "sent_4900 = re.sub(r\"http\\S+\", \"\", sent_4900)\n",
    "\n",
    "print(sent_0)"
   ]
  },
  {
   "cell_type": "code",
   "execution_count": 16,
   "metadata": {},
   "outputs": [
    {
     "name": "stdout",
     "output_type": "stream",
     "text": [
      "My dogs loves this chicken but its a product from China, so we wont be buying it anymore.  Its very hard to find any chicken products made in the USA but they are out there, but this one isnt.  Its too bad too because its a good product but I wont take any chances till they know what is going on with the china imports.\n",
      "==================================================\n",
      "The Candy Blocks were a nice visual for the Lego Birthday party but the candy has little taste to it.  Very little of the 2 lbs that I bought were eaten and I threw the rest away.  I would not buy the candy again.\n",
      "==================================================\n",
      "was way to hot for my blood, took a bite and did a jig  lol\n",
      "==================================================\n",
      "My dog LOVES these treats. They tend to have a very strong fish oil smell. So if you are afraid of the fishy smell, don't get it. But I think my dog likes it because of the smell. These treats are really small in size. They are great for training. You can give your dog several of these without worrying about him over eating. Amazon's price was much more reasonable than any other retailer. You can buy a 1 pound bag on Amazon for almost the same price as a 6 ounce bag at other retailers. It's definitely worth it to buy a big bag if your dog eats them a lot.\n"
     ]
    }
   ],
   "source": [
    "# https://stackoverflow.com/questions/16206380/python-beautifulsoup-how-to-remove-all-tags-from-an-element\n",
    "from bs4 import BeautifulSoup\n",
    "\n",
    "soup = BeautifulSoup(sent_0, 'lxml')\n",
    "text = soup.get_text()\n",
    "print(text)\n",
    "print(\"=\"*50)\n",
    "\n",
    "soup = BeautifulSoup(sent_1000, 'lxml')\n",
    "text = soup.get_text()\n",
    "print(text)\n",
    "print(\"=\"*50)\n",
    "\n",
    "soup = BeautifulSoup(sent_1500, 'lxml')\n",
    "text = soup.get_text()\n",
    "print(text)\n",
    "print(\"=\"*50)\n",
    "\n",
    "soup = BeautifulSoup(sent_4900, 'lxml')\n",
    "text = soup.get_text()\n",
    "print(text)"
   ]
  },
  {
   "cell_type": "code",
   "execution_count": 17,
   "metadata": {},
   "outputs": [],
   "source": [
    "# https://stackoverflow.com/a/47091490/4084039\n",
    "import re\n",
    "\n",
    "def decontracted(phrase):\n",
    "    # specific\n",
    "    phrase = re.sub(r\"won't\", \"will not\", phrase)\n",
    "    phrase = re.sub(r\"can\\'t\", \"can not\", phrase)\n",
    "\n",
    "    # general\n",
    "    phrase = re.sub(r\"n\\'t\", \" not\", phrase)\n",
    "    phrase = re.sub(r\"\\'re\", \" are\", phrase)\n",
    "    phrase = re.sub(r\"\\'s\", \" is\", phrase)\n",
    "    phrase = re.sub(r\"\\'d\", \" would\", phrase)\n",
    "    phrase = re.sub(r\"\\'ll\", \" will\", phrase)\n",
    "    phrase = re.sub(r\"\\'t\", \" not\", phrase)\n",
    "    phrase = re.sub(r\"\\'ve\", \" have\", phrase)\n",
    "    phrase = re.sub(r\"\\'m\", \" am\", phrase)\n",
    "    return phrase"
   ]
  },
  {
   "cell_type": "code",
   "execution_count": 18,
   "metadata": {},
   "outputs": [
    {
     "name": "stdout",
     "output_type": "stream",
     "text": [
      "was way to hot for my blood, took a bite and did a jig  lol\n",
      "==================================================\n"
     ]
    }
   ],
   "source": [
    "sent_1500 = decontracted(sent_1500)\n",
    "print(sent_1500)\n",
    "print(\"=\"*50)"
   ]
  },
  {
   "cell_type": "code",
   "execution_count": 19,
   "metadata": {},
   "outputs": [
    {
     "name": "stdout",
     "output_type": "stream",
     "text": [
      "My dogs loves this chicken but its a product from China, so we wont be buying it anymore.  Its very hard to find any chicken products made in the USA but they are out there, but this one isnt.  Its too bad too because its a good product but I wont take any chances till they know what is going on with the china imports.\n"
     ]
    }
   ],
   "source": [
    "#remove words with numbers python: https://stackoverflow.com/a/18082370/4084039\n",
    "sent_0 = re.sub(\"\\S*\\d\\S*\", \"\", sent_0).strip()\n",
    "print(sent_0)"
   ]
  },
  {
   "cell_type": "code",
   "execution_count": 20,
   "metadata": {},
   "outputs": [
    {
     "name": "stdout",
     "output_type": "stream",
     "text": [
      "was way to hot for my blood took a bite and did a jig lol\n"
     ]
    }
   ],
   "source": [
    "#remove spacial character: https://stackoverflow.com/a/5843547/4084039\n",
    "sent_1500 = re.sub('[^A-Za-z0-9]+', ' ', sent_1500)\n",
    "print(sent_1500)"
   ]
  },
  {
   "cell_type": "code",
   "execution_count": 21,
   "metadata": {},
   "outputs": [],
   "source": [
    "# https://gist.github.com/sebleier/554280\n",
    "# we are removing the words from the stop words list: 'no', 'nor', 'not'\n",
    "# <br /><br /> ==> after the above steps, we are getting \"br br\"\n",
    "# we are including them into stop words list\n",
    "# instead of <br /> if we have <br/> these tags would have revmoved in the 1st step\n",
    "\n",
    "stopwords= set(['br', 'the', 'i', 'me', 'my', 'myself', 'we', 'our', 'ours', 'ourselves', 'you', \"you're\", \"you've\",\\\n",
    "            \"you'll\", \"you'd\", 'your', 'yours', 'yourself', 'yourselves', 'he', 'him', 'his', 'himself', \\\n",
    "            'she', \"she's\", 'her', 'hers', 'herself', 'it', \"it's\", 'its', 'itself', 'they', 'them', 'their',\\\n",
    "            'theirs', 'themselves', 'what', 'which', 'who', 'whom', 'this', 'that', \"that'll\", 'these', 'those', \\\n",
    "            'am', 'is', 'are', 'was', 'were', 'be', 'been', 'being', 'have', 'has', 'had', 'having', 'do', 'does', \\\n",
    "            'did', 'doing', 'a', 'an', 'the', 'and', 'but', 'if', 'or', 'because', 'as', 'until', 'while', 'of', \\\n",
    "            'at', 'by', 'for', 'with', 'about', 'against', 'between', 'into', 'through', 'during', 'before', 'after',\\\n",
    "            'above', 'below', 'to', 'from', 'up', 'down', 'in', 'out', 'on', 'off', 'over', 'under', 'again', 'further',\\\n",
    "            'then', 'once', 'here', 'there', 'when', 'where', 'why', 'how', 'all', 'any', 'both', 'each', 'few', 'more',\\\n",
    "            'most', 'other', 'some', 'such', 'only', 'own', 'same', 'so', 'than', 'too', 'very', \\\n",
    "            's', 't', 'can', 'will', 'just', 'don', \"don't\", 'should', \"should've\", 'now', 'd', 'll', 'm', 'o', 're', \\\n",
    "            've', 'y', 'ain', 'aren', \"aren't\", 'couldn', \"couldn't\", 'didn', \"didn't\", 'doesn', \"doesn't\", 'hadn',\\\n",
    "            \"hadn't\", 'hasn', \"hasn't\", 'haven', \"haven't\", 'isn', \"isn't\", 'ma', 'mightn', \"mightn't\", 'mustn',\\\n",
    "            \"mustn't\", 'needn', \"needn't\", 'shan', \"shan't\", 'shouldn', \"shouldn't\", 'wasn', \"wasn't\", 'weren', \"weren't\", \\\n",
    "            'won', \"won't\", 'wouldn', \"wouldn't\"])"
   ]
  },
  {
   "cell_type": "code",
   "execution_count": 22,
   "metadata": {},
   "outputs": [
    {
     "name": "stderr",
     "output_type": "stream",
     "text": [
      "100%|██████████| 87773/87773 [00:48<00:00, 1812.89it/s]\n"
     ]
    }
   ],
   "source": [
    "# Combining all the above stundents \n",
    "from tqdm import tqdm\n",
    "preprocessed_reviews = []\n",
    "# tqdm is for printing the status bar\n",
    "for sentance in tqdm(final['Text'].values):\n",
    "    sentance = re.sub(r\"http\\S+\", \"\", sentance)\n",
    "    sentance = BeautifulSoup(sentance, 'lxml').get_text()\n",
    "    sentance = decontracted(sentance)\n",
    "    sentance = re.sub(\"\\S*\\d\\S*\", \"\", sentance).strip()\n",
    "    sentance = re.sub('[^A-Za-z]+', ' ', sentance)\n",
    "    # https://gist.github.com/sebleier/554280\n",
    "    sentance = ' '.join(e.lower() for e in sentance.split() if e.lower() not in stopwords)\n",
    "    preprocessed_reviews.append(sentance.strip())\n"
   ]
  },
  {
   "cell_type": "code",
   "execution_count": 23,
   "metadata": {},
   "outputs": [],
   "source": [
    "final['CleanedText'] = preprocessed_reviews\n",
    "y = final['Score']"
   ]
  },
  {
   "cell_type": "code",
   "execution_count": 24,
   "metadata": {},
   "outputs": [
    {
     "data": {
      "text/plain": [
       "'way hot blood took bite jig lol'"
      ]
     },
     "execution_count": 24,
     "metadata": {},
     "output_type": "execute_result"
    }
   ],
   "source": [
    "preprocessed_reviews[1500]"
   ]
  },
  {
   "cell_type": "markdown",
   "metadata": {},
   "source": [
    "# [5] Assignment 7: SVM"
   ]
  },
  {
   "cell_type": "markdown",
   "metadata": {},
   "source": [
    "<ol>\n",
    "    <li><strong>Apply SVM on these feature sets</strong>\n",
    "        <ul>\n",
    "            <li><font color='red'>SET 1:</font>Review text, preprocessed one converted into vectors using (BOW)</li>\n",
    "            <li><font color='red'>SET 2:</font>Review text, preprocessed one converted into vectors using (TFIDF)</li>\n",
    "            <li><font color='red'>SET 3:</font>Review text, preprocessed one converted into vectors using (AVG W2v)</li>\n",
    "            <li><font color='red'>SET 4:</font>Review text, preprocessed one converted into vectors using (TFIDF W2v)</li>\n",
    "        </ul>\n",
    "    </li>\n",
    "    <br>\n",
    "    <li><strong>Procedure</strong>\n",
    "        <ul>\n",
    "    <li>You need to work with 2 versions of SVM\n",
    "        <ul><li>Linear kernel</li>\n",
    "            <li>RBF kernel</li></ul>\n",
    "    <li>When you are working with linear kernel, use SGDClassifier’ with hinge loss because it is computationally less expensive.</li>\n",
    "    <li>When you are working with ‘SGDClassifier’ with hinge loss and trying to find the AUC\n",
    "        score, you would have to use <a href='https://scikit-learn.org/stable/modules/generated/sklearn.calibration.CalibratedClassifierCV.html'>CalibratedClassifierCV</a></li>\n",
    "    <li>Similarly, like kdtree of knn, when you are working with RBF kernel it's better to reduce\n",
    "the number of dimensions. You can put min_df = 10, max_features = 500 and consider a sample size of 40k points.</li>                \n",
    "        </ul>\n",
    "    </li>\n",
    "    <br>\n",
    "    <li><strong>Hyper paramter tuning (find best alpha in range [10^-4 to 10^4], and the best penalty among 'l1', 'l2')</strong>\n",
    "        <ul>\n",
    "    <li>Find the best hyper parameter which will give the maximum <a href='https://www.appliedaicourse.com/course/applied-ai-course-online/lessons/receiver-operating-characteristic-curve-roc-curve-and-auc-1/'>AUC</a> value</li>\n",
    "    <li>Find the best hyper paramter using k-fold cross validation or simple cross validation data</li>\n",
    "    <li>Use gridsearch cv or randomsearch cv or you can also write your own for loops to do this task of hyperparameter tuning</li>          \n",
    "        </ul>\n",
    "    </li>\n",
    "    <br>\n",
    "    <li><strong>Feature importance</strong>\n",
    "        <ul>\n",
    "    <li>When you are working on the linear kernel with BOW or TFIDF please print the top 10 best\n",
    "features for each of the positive and negative classes.</li>\n",
    "        </ul>\n",
    "    </li>\n",
    "    <br>\n",
    "    <li><strong>Feature engineering</strong>\n",
    "        <ul>\n",
    "    <li>To increase the performance of your model, you can also experiment with with feature engineering like :</li>\n",
    "            <ul>\n",
    "            <li>Taking length of reviews as another feature.</li>\n",
    "            <li>Considering some features from review summary as well.</li>\n",
    "        </ul>\n",
    "        </ul>\n",
    "    </li>\n",
    "    <br>\n",
    "    <li><strong>Representation of results</strong>\n",
    "        <ul>\n",
    "    <li>You need to plot the performance of model both on train data and cross validation data for each hyper parameter, like shown in the figure.\n",
    "    <img src='train_cv_auc.JPG' width=300px></li>\n",
    "    <li>Once after you found the best hyper parameter, you need to train your model with it, and find the AUC on test data and plot the ROC curve on both train and test.\n",
    "    <img src='train_test_auc.JPG' width=300px></li>\n",
    "    <li>Along with plotting ROC curve, you need to print the <a href='https://www.appliedaicourse.com/course/applied-ai-course-online/lessons/confusion-matrix-tpr-fpr-fnr-tnr-1/'>confusion matrix</a> with predicted and original labels of test data points. Please visualize your confusion matrices using <a href='https://seaborn.pydata.org/generated/seaborn.heatmap.html'>seaborn heatmaps.\n",
    "    <img src='confusion_matrix.png' width=300px></li>\n",
    "        </ul>\n",
    "    </li>\n",
    "    <br>\n",
    "    <li><strong>Conclusion</strong>\n",
    "        <ul>\n",
    "    <li>You need to summarize the results at the end of the notebook, summarize it in the table format. To print out a table please refer to this prettytable library<a href='http://zetcode.com/python/prettytable/'>  link</a> \n",
    "        <img src='summary.JPG' width=400px>\n",
    "    </li>\n",
    "        </ul>\n",
    "</ol>"
   ]
  },
  {
   "cell_type": "markdown",
   "metadata": {},
   "source": [
    "<h4><font color='red'>Note: Data Leakage</font></h4>\n",
    "\n",
    "1. There will be an issue of data-leakage if you vectorize the entire data and then split it into train/cv/test.\n",
    "2. To avoid the issue of data-leakag, make sure to split your data first and then vectorize it. \n",
    "3. While vectorizing your data, apply the method fit_transform() on you train data, and apply the method transform() on cv/test data.\n",
    "4. For more details please go through this <a href='https://soundcloud.com/applied-ai-course/leakage-bow-and-tfidf'>link.</a>"
   ]
  },
  {
   "cell_type": "code",
   "execution_count": 25,
   "metadata": {},
   "outputs": [
    {
     "name": "stdout",
     "output_type": "stream",
     "text": [
      "(70218, 11) (70218,)\n",
      "(17555, 11) (17555,)\n",
      "(56174, 11) (56174,)\n",
      "(14044, 11) (14044,)\n"
     ]
    }
   ],
   "source": [
    "#Splitting data into train and test:\n",
    "\n",
    "from sklearn.model_selection import train_test_split\n",
    "from sklearn.metrics import accuracy_score\n",
    "from sklearn.model_selection import cross_val_score\n",
    "from collections import Counter\n",
    "from sklearn.metrics import accuracy_score\n",
    "from sklearn import model_selection\n",
    "\n",
    "X_train, X_test, y_train, y_test = train_test_split(final, y, test_size=0.2)\n",
    "print(X_train.shape, y_train.shape)\n",
    "print(X_test.shape, y_test.shape)\n",
    "\n",
    "#Splitting train data into train and cv(60:20)\n",
    "X_tr, X_cv, y_tr, y_cv = train_test_split(X_train, y_train, test_size=0.2)\n",
    "print(X_tr.shape, y_tr.shape)\n",
    "print(X_cv.shape, y_cv.shape)\n",
    "\n"
   ]
  },
  {
   "cell_type": "code",
   "execution_count": 26,
   "metadata": {},
   "outputs": [
    {
     "name": "stdout",
     "output_type": "stream",
     "text": [
      "(17555, 44245)\n",
      "(14044, 44245)\n",
      "(56174, 44245)\n"
     ]
    }
   ],
   "source": [
    "#Applying BoW\n",
    "model = CountVectorizer()\n",
    "model.fit(X_tr['CleanedText'])\n",
    "train_bow = model.transform(X_tr['CleanedText'])\n",
    "cv_bow = model.transform(X_cv['CleanedText'])\n",
    "test_bow = model.transform(X_test['CleanedText'])\n",
    "print(test_bow.shape)\n",
    "print(cv_bow.shape)\n",
    "print(train_bow.shape)"
   ]
  },
  {
   "cell_type": "code",
   "execution_count": 27,
   "metadata": {},
   "outputs": [
    {
     "name": "stdout",
     "output_type": "stream",
     "text": [
      "(17555, 859723)\n",
      "(56174, 859723)\n",
      "(14044, 859723)\n"
     ]
    }
   ],
   "source": [
    "#Applying tf_idf vectorization\n",
    "tf_idf_vect = TfidfVectorizer(ngram_range=(1,2))\n",
    "tf_idf_vect.fit(X_tr['Text'])\n",
    "train_tf_idf = tf_idf_vect.transform(X_tr['Text'])\n",
    "test_tf_idf = tf_idf_vect.transform(X_test['Text'])\n",
    "cv_tf_idf = tf_idf_vect.transform(X_cv['Text'])\n",
    "\n",
    "print(test_tf_idf.shape)\n",
    "print(train_tf_idf.shape)\n",
    "print(cv_tf_idf.shape)"
   ]
  },
  {
   "cell_type": "code",
   "execution_count": 28,
   "metadata": {},
   "outputs": [
    {
     "name": "stdout",
     "output_type": "stream",
     "text": [
      "tryed lot beef jerky must say greatest eaten try say finger licking good nt chew like piece leather either bettie ohio\n",
      "*****************************************************************\n",
      "['tryed', 'lot', 'beef', 'jerky', 'must', 'say', 'greatest', 'eaten', 'try', 'say', 'finger', 'licking', 'good', 'nt', 'chew', 'like', 'piece', 'leather', 'either', 'bettie', 'ohio']\n",
      "kids allergic eggs nuts dairy two also picky eaters cookie mix easy prepare tastes wonderful work exceptionally well rolled cut cookies always hand major holidays beware go quickly\n",
      "*****************************************************************\n",
      "['kids', 'allergic', 'eggs', 'nuts', 'dairy', 'two', 'also', 'picky', 'eaters', 'cookie', 'mix', 'easy', 'prepare', 'tastes', 'wonderful', 'work', 'exceptionally', 'well', 'rolled', 'cut', 'cookies', 'always', 'hand', 'major', 'holidays', 'beware', 'go', 'quickly']\n",
      "think grape one next day woke find roommate ate rest entire box guess pretty good\n",
      "*****************************************************************\n",
      "['think', 'grape', 'one', 'next', 'day', 'woke', 'find', 'roommate', 'ate', 'rest', 'entire', 'box', 'guess', 'pretty', 'good']\n",
      "number of words that occured minimum 5 times  14170\n",
      "sample words  ['tryed', 'lot', 'beef', 'jerky', 'must', 'say', 'greatest', 'eaten', 'try', 'finger', 'licking', 'good', 'nt', 'chew', 'like', 'piece', 'leather', 'either', 'ohio', 'person', 'never', 'drank', 'tea', 'tried', 'many', 'different', 'teas', 'liked', 'also', 'moderate', 'stomach', 'issues', 'thought', 'would', 'admit', 'took', 'couple', 'cups', 'get', 'hooked', 'found', 'taste', 'wonderful', 'calming', 'effect', 'big', 'help', 'drink', 'one', 'cup']\n"
     ]
    },
    {
     "name": "stderr",
     "output_type": "stream",
     "text": [
      "100%|██████████| 56174/56174 [02:59<00:00, 312.46it/s]\n"
     ]
    },
    {
     "name": "stdout",
     "output_type": "stream",
     "text": [
      "56174\n",
      "50\n"
     ]
    },
    {
     "name": "stderr",
     "output_type": "stream",
     "text": [
      "100%|██████████| 17555/17555 [00:58<00:00, 301.09it/s]\n"
     ]
    },
    {
     "name": "stdout",
     "output_type": "stream",
     "text": [
      "17555\n",
      "50\n"
     ]
    },
    {
     "name": "stderr",
     "output_type": "stream",
     "text": [
      "100%|██████████| 14044/14044 [00:47<00:00, 293.35it/s]\n"
     ]
    },
    {
     "name": "stdout",
     "output_type": "stream",
     "text": [
      "14044\n",
      "50\n"
     ]
    }
   ],
   "source": [
    "# Word2Vec model for train/test and cv dataset\n",
    "i=0\n",
    "list_of_sent=[]\n",
    "for sent in X_tr['CleanedText'].values:\n",
    "    list_of_sent.append(sent.split())\n",
    "    \n",
    "print(X_tr['CleanedText'].values[0])\n",
    "print(\"*****************************************************************\")\n",
    "print(list_of_sent[0])\n",
    "\n",
    "\n",
    "# Word2Vec model for test and CV\n",
    "i=0\n",
    "list_of_sent_cv=[]\n",
    "for sent in X_cv['CleanedText'].values:\n",
    "    list_of_sent_cv.append(sent.split())\n",
    "    \n",
    "print(X_cv['CleanedText'].values[0])\n",
    "print(\"*****************************************************************\")\n",
    "print(list_of_sent_cv[0])\n",
    "\n",
    "\n",
    "i=0\n",
    "list_of_sent_test=[]\n",
    "for sent in X_test['CleanedText'].values:\n",
    "    list_of_sent_test.append(sent.split())\n",
    "    \n",
    "print(X_test['CleanedText'].values[0])\n",
    "print(\"*****************************************************************\")\n",
    "print(list_of_sent_test[0])\n",
    "\n",
    "\n",
    "w2v_model_train=Word2Vec(list_of_sent,min_count=5,size=50, workers=5)\n",
    "w2v_model_test=Word2Vec(list_of_sent_test,min_count=5,size=50, workers=5)\n",
    "w2v_model_cv=Word2Vec(list_of_sent_cv,min_count=5,size=50, workers=5)\n",
    "\n",
    "\n",
    "w2v_words = list(w2v_model_train.wv.vocab)\n",
    "print(\"number of words that occured minimum 5 times \",len(w2v_words))\n",
    "print(\"sample words \", w2v_words[0:50])\n",
    "\n",
    "\n",
    "# average Word2Vec\n",
    "# compute average word2vec for each review Train dataset\n",
    "sent_vectors = []; # the avg-w2v for each sentence/review is stored in this list\n",
    "for sent in tqdm(list_of_sent): # for each review/sentence\n",
    "    sent_vec = np.zeros(50) # as word vectors are of zero length\n",
    "    cnt_words =0; # num of words with a valid vector in the sentence/review\n",
    "    for word in sent: # for each word in a review/sentence\n",
    "        if word in w2v_words:\n",
    "            vec = w2v_model_train.wv[word]\n",
    "            sent_vec += vec\n",
    "            cnt_words += 1\n",
    "    if cnt_words != 0:\n",
    "        sent_vec /= cnt_words\n",
    "    sent_vectors.append(sent_vec)\n",
    "print(len(sent_vectors))\n",
    "print(len(sent_vectors[0]))\n",
    "\n",
    "\n",
    "# average Word2Vec\n",
    "# compute average word2vec for each review - test dataset\n",
    "sent_vectors_test = []; # the avg-w2v for each sentence/review is stored in this list\n",
    "for sent in tqdm(list_of_sent_test): # for each review/sentence\n",
    "    sent_vec_test = np.zeros(50) # as word vectors are of zero length\n",
    "    cnt_words =0; # num of words with a valid vector in the sentence/review\n",
    "    for word in sent: # for each word in a review/sentence\n",
    "        if word in w2v_words:\n",
    "            vec = w2v_model_train.wv[word]\n",
    "            sent_vec += vec\n",
    "            cnt_words += 1\n",
    "    if cnt_words != 0:\n",
    "        sent_vec /= cnt_words\n",
    "    sent_vectors_test.append(sent_vec)\n",
    "print(len(sent_vectors_test))\n",
    "print(len(sent_vectors_test[0]))\n",
    "\n",
    "\n",
    "# average Word2Vec\n",
    "# compute average word2vec for each review - cv dataset\n",
    "sent_vectors_cv = []; # the avg-w2v for each sentence/review is stored in this list\n",
    "for sent in tqdm(list_of_sent_cv): # for each review/sentence\n",
    "    sent_vec_cv = np.zeros(50) # as word vectors are of zero length\n",
    "    cnt_words =0; # num of words with a valid vector in the sentence/review\n",
    "    for word in sent: # for each word in a review/sentence\n",
    "        if word in w2v_words:\n",
    "            vec = w2v_model_train.wv[word]\n",
    "            sent_vec += vec\n",
    "            cnt_words += 1\n",
    "    if cnt_words != 0:\n",
    "        sent_vec /= cnt_words\n",
    "    sent_vectors_cv.append(sent_vec)\n",
    "print(len(sent_vectors_cv))\n",
    "print(len(sent_vectors_cv[0]))"
   ]
  },
  {
   "cell_type": "code",
   "execution_count": 29,
   "metadata": {},
   "outputs": [],
   "source": [
    "# S = [\"abc def pqr\", \"def def def abc\", \"pqr pqr def\"]\n",
    "model = TfidfVectorizer()\n",
    "tf_idf_matrix = model.fit_transform(X_tr['CleanedText'].values)\n",
    "# we are converting a dictionary with word as a key, and the idf as a value\n",
    "dictionary = dict(zip(model.get_feature_names(), list(model.idf_)))"
   ]
  },
  {
   "cell_type": "code",
   "execution_count": 30,
   "metadata": {},
   "outputs": [
    {
     "name": "stderr",
     "output_type": "stream",
     "text": [
      "100%|██████████| 56174/56174 [47:47<00:00, 19.59it/s]   \n"
     ]
    }
   ],
   "source": [
    "# TF-IDF weighted Word2Vec for train dataset\n",
    "tfidf_feat = model.get_feature_names() # tfidf words/col-names\n",
    "# final_tf_idf is the sparse matrix with row= sentence, col=word and cell_val = tfidf\n",
    "\n",
    "tfidf_sent_vectors = []; # the tfidf-w2v for each sentence/review is stored in this list\n",
    "row=0;\n",
    "for sent in tqdm(list_of_sent): # for each review/sentence \n",
    "    sent_vec = np.zeros(50) # as word vectors are of zero length\n",
    "    weight_sum =0; # num of words with a valid vector in the sentence/review\n",
    "    for word in sent: # for each word in a review/sentence\n",
    "        if word in w2v_words and word in tfidf_feat:\n",
    "            vec = w2v_model_train.wv[word]\n",
    "#             tf_idf = tf_idf_matrix[row, tfidf_feat.index(word)]\n",
    "            # to reduce the computation we are \n",
    "            # dictionary[word] = idf value of word in whole courpus\n",
    "            # sent.count(word) = tf valeus of word in this review\n",
    "            tf_idf = dictionary[word]*(sent.count(word)/len(sent))\n",
    "            sent_vec += (vec * tf_idf)\n",
    "            weight_sum += tf_idf\n",
    "    if weight_sum != 0:\n",
    "        sent_vec /= weight_sum\n",
    "    tfidf_sent_vectors.append(sent_vec)\n",
    "    row += 1"
   ]
  },
  {
   "cell_type": "code",
   "execution_count": 31,
   "metadata": {},
   "outputs": [
    {
     "name": "stderr",
     "output_type": "stream",
     "text": [
      "100%|██████████| 17555/17555 [12:22<00:00, 28.21it/s]\n",
      "100%|██████████| 14044/14044 [09:33<00:00, 24.48it/s]\n"
     ]
    }
   ],
   "source": [
    "# TF-IDF weighted Word2Vec for test dataset\n",
    "tfidf_feat = model.get_feature_names() # tfidf words/col-names\n",
    "# final_tf_idf is the sparse matrix with row= sentence, col=word and cell_val = tfidf\n",
    "\n",
    "tfidf_sent_vectors_test = []; # the tfidf-w2v for each sentence/review is stored in this list\n",
    "row=0;\n",
    "for sent in tqdm(list_of_sent_test): # for each review/sentence \n",
    "    sent_vec = np.zeros(50) # as word vectors are of zero length\n",
    "    weight_sum =0; # num of words with a valid vector in the sentence/review\n",
    "    for word in sent: # for each word in a review/sentence\n",
    "        if word in w2v_words and word in tfidf_feat:\n",
    "            vec = w2v_model_train.wv[word]\n",
    "#             tf_idf = tf_idf_matrix[row, tfidf_feat.index(word)]\n",
    "            # to reduce the computation we are \n",
    "            # dictionary[word] = idf value of word in whole courpus\n",
    "            # sent.count(word) = tf valeus of word in this review\n",
    "            tf_idf = dictionary[word]*(sent.count(word)/len(sent))\n",
    "            sent_vec += (vec * tf_idf)\n",
    "            weight_sum += tf_idf\n",
    "    if weight_sum != 0:\n",
    "        sent_vec /= weight_sum\n",
    "    tfidf_sent_vectors_test.append(sent_vec)\n",
    "    row += 1\n",
    "    \n",
    "    \n",
    "# TF-IDF weighted Word2Vec for cv dataset\n",
    "tfidf_feat = model.get_feature_names() # tfidf words/col-names\n",
    "# final_tf_idf is the sparse matrix with row= sentence, col=word and cell_val = tfidf\n",
    "\n",
    "tfidf_sent_vectors_cv = []; # the tfidf-w2v for each sentence/review is stored in this list\n",
    "row=0;\n",
    "for sent in tqdm(list_of_sent_cv): # for each review/sentence \n",
    "    sent_vec = np.zeros(50) # as word vectors are of zero length\n",
    "    weight_sum =0; # num of words with a valid vector in the sentence/review\n",
    "    for word in sent: # for each word in a review/sentence\n",
    "        if word in w2v_words and word in tfidf_feat:\n",
    "            vec = w2v_model_train.wv[word]\n",
    "#             tf_idf = tf_idf_matrix[row, tfidf_feat.index(word)]\n",
    "            # to reduce the computation we are \n",
    "            # dictionary[word] = idf value of word in whole courpus\n",
    "            # sent.count(word) = tf valeus of word in this review\n",
    "            tf_idf = dictionary[word]*(sent.count(word)/len(sent))\n",
    "            sent_vec += (vec * tf_idf)\n",
    "            weight_sum += tf_idf\n",
    "    if weight_sum != 0:\n",
    "        sent_vec /= weight_sum\n",
    "    tfidf_sent_vectors_cv.append(sent_vec)\n",
    "    row += 1\n",
    "    \n",
    "\n"
   ]
  },
  {
   "cell_type": "markdown",
   "metadata": {},
   "source": [
    "# Applying SVM"
   ]
  },
  {
   "cell_type": "markdown",
   "metadata": {},
   "source": [
    "## [5.1] Linear SVM"
   ]
  },
  {
   "cell_type": "markdown",
   "metadata": {},
   "source": [
    "### [5.1.1] Applying Linear SVM on BOW,<font color='red'> SET 1</font>"
   ]
  },
  {
   "cell_type": "code",
   "execution_count": 32,
   "metadata": {},
   "outputs": [
    {
     "name": "stdout",
     "output_type": "stream",
     "text": [
      "GridSearchCV(cv='warn', error_score='raise-deprecating',\n",
      "       estimator=SGDClassifier(alpha=0.0001, average=False, class_weight='balanced',\n",
      "       early_stopping=False, epsilon=0.1, eta0=0.0, fit_intercept=True,\n",
      "       l1_ratio=0.15, learning_rate='optimal', loss='hinge', max_iter=None,\n",
      "       n_iter=None, n_iter_no_change=5, n_jobs=None, penalty='l1',\n",
      "       power_t=0.5, random_state=0, shuffle=True, tol=None,\n",
      "       validation_fraction=0.1, verbose=0, warm_start=False),\n",
      "       fit_params=None, iid='warn', n_jobs=None,\n",
      "       param_grid={'alpha': array([1.e-05, 1.e-04, 1.e-03, 1.e-02, 1.e+00, 1.e+01, 1.e+02, 1.e+03])},\n",
      "       pre_dispatch='2*n_jobs', refit='AUC', return_train_score='warn',\n",
      "       scoring={'AUC': 'roc_auc'}, verbose=0)\n",
      "1e-05\n"
     ]
    }
   ],
   "source": [
    "from sklearn import svm\n",
    "from sklearn.model_selection import GridSearchCV\n",
    "from sklearn.svm import LinearSVC\n",
    "from sklearn import linear_model\n",
    "from sklearn.calibration import CalibratedClassifierCV,calibration_curve\n",
    "alphas = np.array([0.00001, 0.0001, 0.001, 0.01, 1, 10, 100, 1000])\n",
    "base_estimator = linear_model.SGDClassifier(loss='hinge',penalty='l1', random_state=0, class_weight='balanced')\n",
    "scoring = {'AUC': 'roc_auc'}\n",
    "grid = GridSearchCV(estimator=base_estimator,param_grid=dict(alpha=alphas),scoring = scoring, refit = 'AUC')\n",
    "grid.fit(train_bow, y_tr) \n",
    "print(grid)\n",
    "# summarize the results of the grid search\n",
    "(grid.best_score_)\n",
    "print(grid.best_estimator_.alpha)\n",
    "results_tr_bow = grid.cv_results_ \n",
    "#print(results_bow)\n",
    " "
   ]
  },
  {
   "cell_type": "code",
   "execution_count": 33,
   "metadata": {},
   "outputs": [
    {
     "name": "stdout",
     "output_type": "stream",
     "text": [
      "GridSearchCV(cv='warn', error_score='raise-deprecating',\n",
      "       estimator=SGDClassifier(alpha=0.0001, average=False, class_weight='balanced',\n",
      "       early_stopping=False, epsilon=0.1, eta0=0.0, fit_intercept=True,\n",
      "       l1_ratio=0.15, learning_rate='optimal', loss='hinge', max_iter=None,\n",
      "       n_iter=None, n_iter_no_change=5, n_jobs=None, penalty='l1',\n",
      "       power_t=0.5, random_state=0, shuffle=True, tol=None,\n",
      "       validation_fraction=0.1, verbose=0, warm_start=False),\n",
      "       fit_params=None, iid='warn', n_jobs=None,\n",
      "       param_grid={'alpha': array([1.e-05, 1.e-04, 1.e-03, 1.e-02, 1.e+00, 1.e+01, 1.e+02, 1.e+03])},\n",
      "       pre_dispatch='2*n_jobs', refit='AUC', return_train_score='warn',\n",
      "       scoring={'AUC': 'roc_auc'}, verbose=0)\n",
      "1e-05\n"
     ]
    }
   ],
   "source": [
    "alphas = np.array([0.00001, 0.0001, 0.001, 0.01, 1, 10, 100, 1000])\n",
    "base_estimator = linear_model.SGDClassifier(loss='hinge',penalty='l1', random_state=0, class_weight='balanced')\n",
    "scoring = {'AUC': 'roc_auc'}\n",
    "grid = GridSearchCV(estimator=base_estimator,param_grid=dict(alpha=alphas),scoring = scoring, refit = 'AUC')\n",
    "grid.fit(cv_bow, y_cv) \n",
    "print(grid)\n",
    "# summarize the results of the grid search\n",
    "(grid.best_score_)\n",
    "print(grid.best_estimator_.alpha)\n",
    "results_cv_bow = grid.cv_results_ \n",
    "#print(results_bow)\n",
    " "
   ]
  },
  {
   "cell_type": "code",
   "execution_count": 34,
   "metadata": {},
   "outputs": [
    {
     "data": {
      "image/png": "[encoded data removed]",
      "text/plain": [
       "<Figure size 936x936 with 1 Axes>"
      ]
     },
     "metadata": {
      "needs_background": "light"
     },
     "output_type": "display_data"
    }
   ],
   "source": [
    "#Performance over alpha hyperparameter\n",
    "plt.figure(figsize=(13, 13))\n",
    "plt.title(\"Performance of BOW Linear SVM over alpha hyperparameter\",\n",
    "          fontsize=16)\n",
    "\n",
    "#ax.set_xlim(0, 402)\n",
    "#ax.set_ylim(0.73, 1)\n",
    "\n",
    "# Get the regular numpy array from the MaskedArray\n",
    "X_axis = np.array(results_tr_bow['param_alpha'].data, dtype=float)\n",
    "Y_axis_train = results_tr_bow['mean_train_AUC']\n",
    "Y_axis_CV = results_tr_bow['mean_test_AUC']\n",
    "#Y_axis = np.array(sorted(results_bow['mean_train_AUC']).data, dtype=float)\n",
    "#fig, ax = plt.subplots()\n",
    "ax = plt.gca()\n",
    "ax.set_xscale('log')\n",
    "#ax=plt.subplots()\n",
    "curve1, = ax.plot(X_axis, Y_axis_train, label=\"Train AUC\", color='r')\n",
    "curve2, = ax.plot(X_axis, Y_axis_CV, label=\"CV AUC\", color='b')\n",
    "curves = [curve1, curve2]\n",
    "ax.legend()\n",
    "ax.set_ylabel(\"Score\")\n",
    "ax.set_xlabel(\"Alpha Hyperparameter\")\n",
    "ax.tick_params(axis='y', colors=curve1.get_color())\n",
    "ax.tick_params(axis='y', colors=curve2.get_color())\n",
    "#ax.plot(X_axis,Y_axis_CV)\n",
    "plt.legend(loc=\"best\")\n",
    "plt.grid()\n",
    "plt.show()"
   ]
  },
  {
   "cell_type": "markdown",
   "metadata": {},
   "source": [
    "Observation:\n",
    "    \n",
    "    The graph shows that for best alpha value of 1e-05, AUC score for test data is 0.91.\n",
    "    As alpha increases, AUC score decreases and reaches a value of 0.5."
   ]
  },
  {
   "cell_type": "code",
   "execution_count": 35,
   "metadata": {},
   "outputs": [
    {
     "name": "stdout",
     "output_type": "stream",
     "text": [
      "alpha value =  1e-05\n",
      "Area under the ROC curve : %f 0.9219105233069419\n",
      "[[ 1635   726]\n",
      " [  654 11029]]\n"
     ]
    },
    {
     "data": {
      "text/plain": [
       "Text(0.5, 15.0, 'Predicted label')"
      ]
     },
     "execution_count": 35,
     "metadata": {},
     "output_type": "execute_result"
    },
    {
     "data": {
      "image/png": "[encoded data removed]",
      "text/plain": [
       "<Figure size 432x288 with 2 Axes>"
      ]
     },
     "metadata": {
      "needs_background": "light"
     },
     "output_type": "display_data"
    }
   ],
   "source": [
    "# After finding the best hyperparameter value for BOW, applying SVM on train dataset and predicting\n",
    "# accuracy/AUC score for cv dataset\n",
    "from sklearn import svm\n",
    "from sklearn.model_selection import GridSearchCV\n",
    "from sklearn.svm import LinearSVC\n",
    "from sklearn import linear_model\n",
    "from sklearn.calibration import CalibratedClassifierCV,calibration_curve\n",
    "clf = linear_model.SGDClassifier(alpha = 1e-05,loss='hinge',penalty='l1', random_state=0, class_weight='balanced')\n",
    "scoring = {'AUC': 'roc_auc'}\n",
    "clf.fit(train_bow,y_tr)\n",
    "\n",
    "#Caliberate the classifier.\n",
    "clf_calibrated=CalibratedClassifierCV(clf, cv='prefit', method='isotonic')\n",
    "cclf=clf_calibrated.fit(train_bow, y_tr).predict(cv_bow)\n",
    "pred_cv = clf_calibrated.predict_proba(cv_bow)[:,1]\n",
    "#pred_cv = np.argmax(log_pred,axis = 1)\n",
    "print('alpha value = ',1e-05)\n",
    "fpr, tpr, thresholds = roc_curve(y_cv,pred_cv)\n",
    "roc_auc_cv = auc(fpr, tpr)\n",
    "print('Area under the ROC curve : %f', + roc_auc_cv)\n",
    "\n",
    "#Plotting confusion matrix\n",
    "import seaborn as sns\n",
    "conf_mat = confusion_matrix(y_cv, cclf)\n",
    "print(conf_mat)\n",
    "#conf_normalized = conf_mat.astype('int') / conf_mat.sum(axis=1)[:, np.newaxis]\n",
    "sns.heatmap(conf_mat, annot=True, fmt ='g')\n",
    "plt.ylabel('True label')\n",
    "plt.xlabel('Predicted label')"
   ]
  },
  {
   "cell_type": "markdown",
   "metadata": {},
   "source": [
    "Observation for cv dataset:\n",
    "    1. Out of 2272 negative data points, BOW predicts 1421 correctly and the remaining 851 incorrect.\n",
    "    2. Similarly, out of 11772 positive data points, 446 are misclassified.\n",
    "    3. AUC score is above 0.5"
   ]
  },
  {
   "cell_type": "code",
   "execution_count": 36,
   "metadata": {},
   "outputs": [
    {
     "name": "stdout",
     "output_type": "stream",
     "text": [
      "alpha value =  1e-05\n",
      "Area under the ROC curve : %f 0.9197741538006748\n",
      "[[ 1947   829]\n",
      " [  852 13927]]\n"
     ]
    },
    {
     "data": {
      "text/plain": [
       "<matplotlib.legend.Legend at 0x4980ab70>"
      ]
     },
     "execution_count": 36,
     "metadata": {},
     "output_type": "execute_result"
    },
    {
     "data": {
      "image/png": "[encoded data removed]",
      "text/plain": [
       "<Figure size 432x288 with 2 Axes>"
      ]
     },
     "metadata": {
      "needs_background": "light"
     },
     "output_type": "display_data"
    },
    {
     "data": {
      "image/png": "[encoded data removed]",
      "text/plain": [
       "<Figure size 432x288 with 1 Axes>"
      ]
     },
     "metadata": {
      "needs_background": "light"
     },
     "output_type": "display_data"
    }
   ],
   "source": [
    "# After finding the best hyperparameter value for BOW which is 1e-05, applying linear SVM on train dataset and predicting\n",
    "# accuracy/AUC score for cv dataset\n",
    "from sklearn import svm\n",
    "from sklearn.model_selection import GridSearchCV\n",
    "from sklearn.svm import LinearSVC\n",
    "from sklearn import linear_model\n",
    "from sklearn.calibration import CalibratedClassifierCV,calibration_curve\n",
    "clf = linear_model.SGDClassifier(alpha = 1e-05,loss='hinge',penalty='l1', random_state=0,class_weight = \"balanced\")\n",
    "scoring = {'AUC': 'roc_auc'}\n",
    "clf.fit(train_bow,y_tr)\n",
    "\n",
    "#Caliberate the classifier.\n",
    "clf_calibrated=CalibratedClassifierCV(clf, cv='prefit', method='isotonic')\n",
    "cclf = clf_calibrated.fit(train_bow, y_tr).predict(test_bow)\n",
    "pred_test = clf_calibrated.predict_proba(test_bow)[:,1]\n",
    "print('alpha value = ',1e-05)\n",
    "fpr, tpr, thresholds = roc_curve(y_test,pred_test)\n",
    "roc_auc_test = auc(fpr, tpr)\n",
    "print('Area under the ROC curve : %f', + roc_auc_test)\n",
    "\n",
    "#Plotting confusion matrix\n",
    "import seaborn as sns\n",
    "conf_mat = confusion_matrix(y_test, cclf)\n",
    "print(conf_mat)\n",
    "#conf_normalized = conf_mat.astype('int') / conf_mat.sum(axis=1)[:, np.newaxis]\n",
    "sns.heatmap(conf_mat, annot=True, fmt ='g')\n",
    "plt.ylabel('True label')\n",
    "plt.xlabel('Predicted label')\n",
    "\n",
    "#Plot ROC Curve\n",
    "plt.figure(0).clf()\n",
    "fpr, tpr, thresholds = roc_curve(y_test,pred_test)\n",
    "roc_auc_test = auc(fpr, tpr)\n",
    "plt.plot(fpr,tpr,label=\"Test Data, auc=\"+str(roc_auc_test))\n",
    "\n",
    "fpr, tpr, thresh = roc_curve(y_cv, pred_cv)\n",
    "roc_auc_cv = auc(fpr, tpr)\n",
    "plt.plot(fpr,tpr,label=\"Train Data, auc=\"+str(roc_auc_cv))\n",
    "plt.title('ROC curve for Train and Test Dataset - BOW')\n",
    "plt.xlabel('True Positive Rate')\n",
    "plt.ylabel('False Positive Rate')\n",
    "plt.legend(loc=0)"
   ]
  },
  {
   "cell_type": "markdown",
   "metadata": {},
   "source": [
    "Observation for test dataset:\n",
    "    1. Out of 2889 negative data points, BOW predicts 1820 correctly and the remaining 1069 incorrect.\n",
    "    2. Similarly, out of 14666 positive data points, 624 are misclassified.\n",
    "    3. Accuracy 90% and AUC score is above 0.5"
   ]
  },
  {
   "cell_type": "code",
   "execution_count": 37,
   "metadata": {},
   "outputs": [
    {
     "data": {
      "image/png": "[encoded data removed]",
      "text/plain": [
       "<Figure size 1080x360 with 1 Axes>"
      ]
     },
     "metadata": {
      "needs_background": "light"
     },
     "output_type": "display_data"
    },
    {
     "name": "stdout",
     "output_type": "stream",
     "text": [
      "['skeptical' 'slight' 'continue' 'yum' 'delicious' 'perfect' 'downside'\n",
      " 'beat' 'ruth' 'awesome' 'worry' 'highly' 'satisfied' 'complaint'\n",
      " 'excellent' 'pleased' 'pleasantly' 'yummy' 'amazing' 'hooked']\n",
      "['stool' 'colon' 'truffles' 'expired' 'constipation' 'truffle' 'worst'\n",
      " 'cancelled' 'prior' 'disappointing' 'awful' 'terrible' 'consumers'\n",
      " 'threw' 'mahi' 'infant' 'worse' 'disappointment' 'preserved' 'shame']\n"
     ]
    }
   ],
   "source": [
    "#Finding the top 20 features in BOW:\n",
    "import matplotlib.pyplot as plt\n",
    "\n",
    "def plot_coefficients(classifier, feature_names, top_features=20):\n",
    "    coef = classifier.coef_.ravel()\n",
    "    top_positive_coefficients = np.argsort(coef)[-top_features:]\n",
    "    top_negative_coefficients = np.argsort(coef)[:top_features]\n",
    "    top_coefficients = np.hstack([top_negative_coefficients, top_positive_coefficients])\n",
    " # create plot\n",
    "    plt.figure(figsize=(15, 5))\n",
    "    colors = ['red' if c < 0 else 'blue' for c in coef[top_coefficients]]\n",
    "    plt.bar(np.arange(2 * top_features), coef[top_coefficients], color=colors)\n",
    "    feature_names = np.array(feature_names)\n",
    "    plt.xticks(np.arange(1, 1 + 2 * top_features), feature_names[top_coefficients], rotation=60, ha='right')\n",
    "    plt.show()\n",
    "    print(feature_names[top_positive_coefficients])\n",
    "    print(feature_names[top_negative_coefficients])\n",
    "\n",
    "plot_coefficients(clf, model.get_feature_names(), top_features=20)"
   ]
  },
  {
   "cell_type": "markdown",
   "metadata": {},
   "source": [
    "### [5.1.2] Applying Linear SVM on TFIDF,<font color='red'> SET 2</font>"
   ]
  },
  {
   "cell_type": "code",
   "execution_count": 38,
   "metadata": {},
   "outputs": [
    {
     "name": "stdout",
     "output_type": "stream",
     "text": [
      "GridSearchCV(cv='warn', error_score='raise-deprecating',\n",
      "       estimator=SGDClassifier(alpha=0.0001, average=False, class_weight='balanced',\n",
      "       early_stopping=False, epsilon=0.1, eta0=0.0, fit_intercept=True,\n",
      "       l1_ratio=0.15, learning_rate='optimal', loss='hinge', max_iter=None,\n",
      "       n_iter=None, n_iter_no_change=5, n_jobs=None, penalty='l2',\n",
      "       power_t=0.5, random_state=0, shuffle=True, tol=None,\n",
      "       validation_fraction=0.1, verbose=0, warm_start=False),\n",
      "       fit_params=None, iid='warn', n_jobs=None,\n",
      "       param_grid={'alpha': array([1.e-05, 1.e-04, 1.e-03, 1.e-02, 1.e+00, 1.e+01, 1.e+02, 1.e+03])},\n",
      "       pre_dispatch='2*n_jobs', refit='AUC', return_train_score='warn',\n",
      "       scoring={'AUC': 'roc_auc'}, verbose=0)\n",
      "1e-05\n"
     ]
    }
   ],
   "source": [
    "# Please write all the code with proper documentation\n",
    "alphas = np.array([0.00001, 0.0001, 0.001, 0.01, 1, 10, 100, 1000])\n",
    "base_estimator = linear_model.SGDClassifier(loss='hinge',penalty='l2', random_state=0,class_weight = \"balanced\")\n",
    "scoring = {'AUC': 'roc_auc'}\n",
    "grid = GridSearchCV(estimator=base_estimator,param_grid=dict(alpha=alphas),scoring = scoring, refit = 'AUC')\n",
    "grid.fit(train_tf_idf, y_tr) \n",
    "print(grid)\n",
    "# summarize the results of the grid search\n",
    "(grid.best_score_)\n",
    "print(grid.best_estimator_.alpha)\n",
    "results_tr_tfidf = grid.cv_results_ \n",
    "#print(results_tfidf)"
   ]
  },
  {
   "cell_type": "code",
   "execution_count": 35,
   "metadata": {},
   "outputs": [
    {
     "name": "stdout",
     "output_type": "stream",
     "text": [
      "GridSearchCV(cv='warn', error_score='raise-deprecating',\n",
      "       estimator=SGDClassifier(alpha=0.0001, average=False, class_weight='balanced',\n",
      "       early_stopping=False, epsilon=0.1, eta0=0.0, fit_intercept=True,\n",
      "       l1_ratio=0.15, learning_rate='optimal', loss='hinge', max_iter=None,\n",
      "       n_iter=None, n_iter_no_change=5, n_jobs=None, penalty='l2',\n",
      "       power_t=0.5, random_state=0, shuffle=True, tol=None,\n",
      "       validation_fraction=0.1, verbose=0, warm_start=False),\n",
      "       fit_params=None, iid='warn', n_jobs=None,\n",
      "       param_grid={'alpha': array([1.e-05, 1.e-04, 1.e-03, 1.e-02, 1.e+00, 1.e+01, 1.e+02, 1.e+03])},\n",
      "       pre_dispatch='2*n_jobs', refit='AUC', return_train_score='warn',\n",
      "       scoring={'AUC': 'roc_auc'}, verbose=0)\n",
      "0.0001\n"
     ]
    }
   ],
   "source": [
    "# Please write all the code with proper documentation\n",
    "alphas = np.array([0.00001, 0.0001, 0.001, 0.01, 1, 10, 100, 1000])\n",
    "base_estimator = linear_model.SGDClassifier(loss='hinge',penalty='l2', random_state=0,class_weight = \"balanced\")\n",
    "scoring = {'AUC': 'roc_auc'}\n",
    "grid = GridSearchCV(estimator=base_estimator,param_grid=dict(alpha=alphas),scoring = scoring, refit = 'AUC')\n",
    "grid.fit(cv_tf_idf, y_cv) \n",
    "print(grid)\n",
    "# summarize the results of the grid search\n",
    "(grid.best_score_)\n",
    "print(grid.best_estimator_.alpha)\n",
    "results_cv_tfidf = grid.cv_results_ \n",
    "#print(results_tfidf)"
   ]
  },
  {
   "cell_type": "code",
   "execution_count": 39,
   "metadata": {},
   "outputs": [
    {
     "data": {
      "image/png": "[encoded data removed]",
      "text/plain": [
       "<Figure size 936x936 with 1 Axes>"
      ]
     },
     "metadata": {
      "needs_background": "light"
     },
     "output_type": "display_data"
    }
   ],
   "source": [
    "#Performance over alpha hyperparameter\n",
    "plt.figure(figsize=(13, 13))\n",
    "plt.title(\"Performance of TFIDF Linear SVM over alpha hyperparameter\",\n",
    "          fontsize=16)\n",
    "\n",
    "#ax.set_xlim(0, 402)\n",
    "#ax.set_ylim(0.73, 1)\n",
    "\n",
    "# Get the regular numpy array from the MaskedArray\n",
    "X_axis = np.array(results_tr_tfidf['param_alpha'].data, dtype=float)\n",
    "Y_axis_train = results_tr_tfidf['mean_train_AUC']\n",
    "Y_axis_CV = results_tr_tfidf['mean_test_AUC']\n",
    "#Y_axis = np.array(sorted(results_bow['mean_train_AUC']).data, dtype=float)\n",
    "#fig, ax = plt.subplots()\n",
    "ax = plt.gca()\n",
    "ax.set_xscale('log')\n",
    "#ax=plt.subplots()\n",
    "curve1, = ax.plot(X_axis, Y_axis_train, label=\"Train AUC\", color='r')\n",
    "curve2, = ax.plot(X_axis, Y_axis_CV, label=\"CV AUC\", color='b')\n",
    "curves = [curve1, curve2]\n",
    "ax.legend()\n",
    "ax.set_ylabel(\"Score\")\n",
    "ax.set_xlabel(\"Alpha Hyperparameter\")\n",
    "ax.tick_params(axis='y', colors=curve1.get_color())\n",
    "ax.tick_params(axis='y', colors=curve2.get_color())\n",
    "#ax.plot(X_axis,Y_axis_CV)\n",
    "#plt.legend(loc=\"best\")\n",
    "plt.grid()\n",
    "plt.show()"
   ]
  },
  {
   "cell_type": "code",
   "execution_count": null,
   "metadata": {},
   "outputs": [],
   "source": [
    "Observation:\n",
    "    \n",
    "    The graph shows that for best alpha value of 1e-05, AUC score for test data 0.97 respectively.\n",
    "    As alpha increases, AUC score decreases but the accuracy curve is reaching stable value of 85%(at alpha=1e-02)\n",
    "    AUC score approaches to 0.5 as alpha increases."
   ]
  },
  {
   "cell_type": "code",
   "execution_count": 40,
   "metadata": {},
   "outputs": [
    {
     "name": "stdout",
     "output_type": "stream",
     "text": [
      "alpha value =  1e-05\n",
      "Area under the ROC curve : %f 0.9576169873340873\n",
      "[[ 1587   774]\n",
      " [  183 11500]]\n"
     ]
    },
    {
     "data": {
      "text/plain": [
       "Text(0.5, 15.0, 'Predicted label')"
      ]
     },
     "execution_count": 40,
     "metadata": {},
     "output_type": "execute_result"
    },
    {
     "data": {
      "image/png": "[encoded data removed]",
      "text/plain": [
       "<Figure size 432x288 with 2 Axes>"
      ]
     },
     "metadata": {
      "needs_background": "light"
     },
     "output_type": "display_data"
    }
   ],
   "source": [
    "# After finding the best hyperparameter value for TFIDF which is 1e-05, applying linear SVM on train dataset and predicting\n",
    "# accuracy/AUC score for cv dataset\n",
    "from sklearn import svm\n",
    "from sklearn.model_selection import GridSearchCV\n",
    "from sklearn.svm import LinearSVC\n",
    "from sklearn import linear_model\n",
    "from sklearn.calibration import CalibratedClassifierCV,calibration_curve\n",
    "clf = linear_model.SGDClassifier(alpha = 1e-05,loss='hinge',penalty='l2', random_state=0,class_weight = \"balanced\")\n",
    "scoring = {'AUC': 'roc_auc'}\n",
    "clf.fit(train_tf_idf,y_tr)\n",
    "\n",
    "#Caliberate the classifier.\n",
    "clf_calibrated=CalibratedClassifierCV(clf, cv='prefit', method='isotonic')\n",
    "cclf = clf_calibrated.fit(train_tf_idf, y_tr).predict(cv_tf_idf)\n",
    "pred_cv = clf_calibrated.predict_proba(cv_tf_idf)[:,1]\n",
    "#pred_cv = np.argmax(log_pred,axis = 1)\n",
    "print('alpha value = ',1e-05)\n",
    "fpr, tpr, thresholds = roc_curve(y_cv,pred_cv)\n",
    "roc_auc_cv = auc(fpr, tpr)\n",
    "print('Area under the ROC curve : %f', + roc_auc_cv)\n",
    "\n",
    "#Plotting confusion matrix\n",
    "import seaborn as sns\n",
    "conf_mat = confusion_matrix(y_cv, cclf)\n",
    "print(conf_mat)\n",
    "#conf_normalized = conf_mat.astype('int') / conf_mat.sum(axis=1)[:, np.newaxis]\n",
    "sns.heatmap(conf_mat, annot=True, fmt ='g')\n",
    "plt.ylabel('True label')\n",
    "plt.xlabel('Predicted label')\n"
   ]
  },
  {
   "cell_type": "markdown",
   "metadata": {},
   "source": [
    "Observation for test dataset:\n",
    "    1. Out of 2267 negative data points, TFiDF predicts 1783 correctly and the remaining 484 incorrect.\n",
    "    2. Similarly, out of 11777 positive data points, 319 are misclassified.\n",
    "    3. Accuracy 94% and AUC score is above 0.5"
   ]
  },
  {
   "cell_type": "code",
   "execution_count": 41,
   "metadata": {},
   "outputs": [
    {
     "name": "stdout",
     "output_type": "stream",
     "text": [
      "alpha value =  1e-05\n",
      "Area under the ROC curve : %f 0.9570779659899853\n",
      "[[ 1863   913]\n",
      " [  235 14544]]\n"
     ]
    },
    {
     "data": {
      "text/plain": [
       "<matplotlib.legend.Legend at 0x4b2d26d8>"
      ]
     },
     "execution_count": 41,
     "metadata": {},
     "output_type": "execute_result"
    },
    {
     "data": {
      "image/png": "[encoded data removed]",
      "text/plain": [
       "<Figure size 432x288 with 2 Axes>"
      ]
     },
     "metadata": {
      "needs_background": "light"
     },
     "output_type": "display_data"
    },
    {
     "data": {
      "image/png": "[encoded data removed]",
      "text/plain": [
       "<Figure size 432x288 with 1 Axes>"
      ]
     },
     "metadata": {
      "needs_background": "light"
     },
     "output_type": "display_data"
    }
   ],
   "source": [
    "# After finding the best hyperparameter value for TFIDF which is 1e-05, applying linear SVM on train dataset and predicting\n",
    "# accuracy/AUC score for cv dataset\n",
    "from sklearn import svm\n",
    "from sklearn.model_selection import GridSearchCV\n",
    "from sklearn.svm import LinearSVC\n",
    "from sklearn import linear_model\n",
    "from sklearn.calibration import CalibratedClassifierCV,calibration_curve\n",
    "clf = linear_model.SGDClassifier(alpha = 1e-05,loss='hinge',penalty='l2', random_state=0, class_weight = \"balanced\")\n",
    "scoring = {'AUC': 'roc_auc'}\n",
    "clf.fit(train_tf_idf,y_tr)\n",
    "\n",
    "#Caliberate the classifier.\n",
    "clf_calibrated=CalibratedClassifierCV(clf, cv='prefit', method='isotonic')\n",
    "cclf = clf_calibrated.fit(train_tf_idf, y_tr).predict(test_tf_idf)\n",
    "pred_test = clf_calibrated.predict_proba(test_tf_idf)[:,1]\n",
    "#pred_test = np.argmax(log_pred,axis = 1)\n",
    "print('alpha value = ',1e-05)\n",
    "fpr, tpr, thresholds = roc_curve(y_test,pred_test)\n",
    "roc_auc_test = auc(fpr, tpr)\n",
    "print('Area under the ROC curve : %f', + roc_auc_test)\n",
    "\n",
    "#Plotting confusion matrix\n",
    "import seaborn as sns\n",
    "conf_mat = confusion_matrix(y_test, cclf)\n",
    "print(conf_mat)\n",
    "#conf_normalized = conf_mat.astype('int') / conf_mat.sum(axis=1)[:, np.newaxis]\n",
    "sns.heatmap(conf_mat, annot=True, fmt ='g')\n",
    "plt.ylabel('True label')\n",
    "plt.xlabel('Predicted label')\n",
    "\n",
    "#Plot ROC Curve\n",
    "plt.figure(0).clf()\n",
    "fpr, tpr, thresholds = roc_curve(y_test,pred_test)\n",
    "roc_auc_test = auc(fpr, tpr)\n",
    "plt.plot(fpr,tpr,label=\"Test Data, auc=\"+str(roc_auc_test))\n",
    "\n",
    "fpr, tpr, thresh = roc_curve(y_cv, pred_cv)\n",
    "roc_auc_cv = auc(fpr, tpr)\n",
    "plt.plot(fpr,tpr,label=\"Train Data, auc=\"+str(roc_auc_cv))\n",
    "plt.title('ROC curve for Train and Test Dataset - BOW')\n",
    "plt.xlabel('True Positive Rate')\n",
    "plt.ylabel('False Positive Rate')\n",
    "plt.legend(loc=0)\n"
   ]
  },
  {
   "cell_type": "code",
   "execution_count": 55,
   "metadata": {},
   "outputs": [
    {
     "data": {
      "image/png": "[encoded data removed]",
      "text/plain": [
       "<Figure size 1080x360 with 1 Axes>"
      ]
     },
     "metadata": {
      "needs_background": "light"
     },
     "output_type": "display_data"
    },
    {
     "name": "stdout",
     "output_type": "stream",
     "text": [
      "['love it' 'highly' 'definitely' 'tasty' 'would buy' 'yummy' 'amazing'\n",
      " 'awesome' 'loves' 'love this' 'wonderful' 'the best' 'excellent' 'best'\n",
      " 'good' 'not too' 'nice' 'perfect' 'delicious' 'great']\n",
      "['terrible' 'not worth' 'not' 'disappointed' 'worst' 'disappointing'\n",
      " 'awful' 'not good' 'unfortunately' 'horrible' 'not recommend'\n",
      " 'very disappointed' 'return' 'disappointment' 'weak' 'bland' 'the worst'\n",
      " 'at all' 'two stars' 'stale']\n"
     ]
    }
   ],
   "source": [
    "plot_coefficients(clf, tf_idf_vect.get_feature_names(), top_features=20)"
   ]
  },
  {
   "cell_type": "markdown",
   "metadata": {},
   "source": [
    "### [5.1.3]  Applying Linear SVM on AVG W2V,<font color='red'> SET 3</font>"
   ]
  },
  {
   "cell_type": "code",
   "execution_count": 42,
   "metadata": {},
   "outputs": [
    {
     "name": "stdout",
     "output_type": "stream",
     "text": [
      "GridSearchCV(cv='warn', error_score='raise-deprecating',\n",
      "       estimator=SGDClassifier(alpha=0.0001, average=False, class_weight='balanced',\n",
      "       early_stopping=False, epsilon=0.1, eta0=0.0, fit_intercept=True,\n",
      "       l1_ratio=0.15, learning_rate='optimal', loss='hinge', max_iter=None,\n",
      "       n_iter=None, n_iter_no_change=5, n_jobs=None, penalty='l2',\n",
      "       power_t=0.5, random_state=0, shuffle=True, tol=None,\n",
      "       validation_fraction=0.1, verbose=0, warm_start=False),\n",
      "       fit_params=None, iid='warn', n_jobs=None,\n",
      "       param_grid={'alpha': array([1.e-05, 1.e-04, 1.e-03, 1.e-02, 1.e+00, 1.e+01, 1.e+02, 1.e+03])},\n",
      "       pre_dispatch='2*n_jobs', refit='AUC', return_train_score='warn',\n",
      "       scoring={'AUC': 'roc_auc'}, verbose=0)\n",
      "0.01\n"
     ]
    }
   ],
   "source": [
    "# Please write all the code with proper documentation\n",
    "alphas = np.array([0.00001, 0.0001, 0.001, 0.01, 1, 10, 100, 1000])\n",
    "base_estimator = linear_model.SGDClassifier(loss='hinge',penalty='l2', random_state=0, class_weight='balanced')\n",
    "scoring = {'AUC': 'roc_auc'}\n",
    "grid = GridSearchCV(estimator=base_estimator,param_grid=dict(alpha=alphas),scoring = scoring, refit = 'AUC')\n",
    "grid.fit(sent_vectors, y_tr) \n",
    "print(grid)\n",
    "# summarize the results of the grid search\n",
    "(grid.best_score_)\n",
    "print(grid.best_estimator_.alpha)\n",
    "results_avg_w2v = grid.cv_results_ \n",
    "#print(results)"
   ]
  },
  {
   "cell_type": "code",
   "execution_count": 43,
   "metadata": {},
   "outputs": [
    {
     "name": "stdout",
     "output_type": "stream",
     "text": [
      "GridSearchCV(cv='warn', error_score='raise-deprecating',\n",
      "       estimator=SGDClassifier(alpha=0.0001, average=False, class_weight='balanced',\n",
      "       early_stopping=False, epsilon=0.1, eta0=0.0, fit_intercept=True,\n",
      "       l1_ratio=0.15, learning_rate='optimal', loss='hinge', max_iter=None,\n",
      "       n_iter=None, n_iter_no_change=5, n_jobs=None, penalty='l2',\n",
      "       power_t=0.5, random_state=0, shuffle=True, tol=None,\n",
      "       validation_fraction=0.1, verbose=0, warm_start=False),\n",
      "       fit_params=None, iid='warn', n_jobs=None,\n",
      "       param_grid={'alpha': array([1.e-05, 1.e-04, 1.e-03, 1.e-02, 1.e+00, 1.e+01, 1.e+02, 1.e+03])},\n",
      "       pre_dispatch='2*n_jobs', refit='AUC', return_train_score='warn',\n",
      "       scoring={'AUC': 'roc_auc'}, verbose=0)\n",
      "1e-05\n"
     ]
    }
   ],
   "source": [
    "# Please write all the code with proper documentation\n",
    "alphas = np.array([0.00001, 0.0001, 0.001, 0.01, 1, 10, 100, 1000])\n",
    "base_estimator = linear_model.SGDClassifier(loss='hinge',penalty='l2', random_state=0, class_weight='balanced')\n",
    "scoring = {'AUC': 'roc_auc'}\n",
    "grid = GridSearchCV(estimator=base_estimator,param_grid=dict(alpha=alphas),scoring = scoring, refit = 'AUC')\n",
    "grid.fit(sent_vectors_cv, y_cv) \n",
    "print(grid)\n",
    "# summarize the results of the grid search\n",
    "(grid.best_score_)\n",
    "print(grid.best_estimator_.alpha)\n",
    "results_avg_w2v_cv = grid.cv_results_ \n",
    "#print(results)"
   ]
  },
  {
   "cell_type": "code",
   "execution_count": 44,
   "metadata": {},
   "outputs": [
    {
     "data": {
      "image/png": "[encoded data removed]",
      "text/plain": [
       "<Figure size 936x936 with 1 Axes>"
      ]
     },
     "metadata": {
      "needs_background": "light"
     },
     "output_type": "display_data"
    }
   ],
   "source": [
    "#Performance over alpha hyperparameter\n",
    "plt.figure(figsize=(13, 13))\n",
    "plt.title(\"Performance of Avg W2V Linear SVM over alpha hyperparameter\",\n",
    "          fontsize=16)\n",
    "X_axis = np.array(results_avg_w2v['param_alpha'].data, dtype=float)\n",
    "Y_axis_train = results_avg_w2v['mean_train_AUC']\n",
    "Y_axis_CV = results_avg_w2v['mean_test_AUC']\n",
    "ax = plt.gca()\n",
    "ax.set_xscale('log')\n",
    "curve1, = ax.plot(X_axis, Y_axis_train, label=\"Train AUC\", color='r')\n",
    "curve2, = ax.plot(X_axis, Y_axis_CV, label=\"CV AUC\", color='b')\n",
    "curves = [curve1, curve2]\n",
    "ax.legend()\n",
    "ax.set_ylabel(\"Score\")\n",
    "ax.set_xlabel(\"Alpha Hyperparameter\")\n",
    "ax.tick_params(axis='y', colors=curve1.get_color())\n",
    "ax.tick_params(axis='y', colors=curve2.get_color())\n",
    "#ax.plot(X_axis,Y_axis_CV)\n",
    "#plt.legend(loc=\"best\")\n",
    "plt.grid()\n",
    "plt.show()"
   ]
  },
  {
   "cell_type": "markdown",
   "metadata": {},
   "source": [
    "Observation:\n",
    "    \n",
    "    The graph shows that for best alpha value of 0.01, AUC score 0.9.\n",
    "    As alpha increases, AUC score decreases.\n",
    "    AUC score approaches to 0.5 as alpha increases."
   ]
  },
  {
   "cell_type": "code",
   "execution_count": 46,
   "metadata": {},
   "outputs": [
    {
     "name": "stdout",
     "output_type": "stream",
     "text": [
      "alpha value =  0.01\n",
      "Area under the ROC curve : %f 0.8927773833242635\n",
      "[[ 4167  4877]\n",
      " [ 2015 45115]]\n"
     ]
    },
    {
     "data": {
      "text/plain": [
       "Text(0.5, 15.0, 'Predicted label')"
      ]
     },
     "execution_count": 46,
     "metadata": {},
     "output_type": "execute_result"
    },
    {
     "data": {
      "image/png": "[encoded data removed]",
      "text/plain": [
       "<Figure size 432x288 with 2 Axes>"
      ]
     },
     "metadata": {
      "needs_background": "light"
     },
     "output_type": "display_data"
    }
   ],
   "source": [
    "# After finding the best hyperparameter value for AVG W2V which is 0.001, applying linear SVM on train dataset and predicting\n",
    "# accuracy/AUC score for cv dataset\n",
    "from sklearn import svm\n",
    "from sklearn.model_selection import GridSearchCV\n",
    "from sklearn.svm import LinearSVC\n",
    "from sklearn import linear_model\n",
    "from sklearn.calibration import CalibratedClassifierCV,calibration_curve\n",
    "clf = linear_model.SGDClassifier(alpha = 0.01,loss='hinge',penalty='l1', random_state=0, class_weight='balanced')\n",
    "scoring = {'AUC': 'roc_auc'}\n",
    "clf.fit(sent_vectors,y_tr)\n",
    "\n",
    "#Caliberate the classifier.\n",
    "clf_calibrated=CalibratedClassifierCV(clf,method='isotonic')\n",
    "cclf = clf_calibrated.fit(sent_vectors, y_tr).predict(sent_vectors) \n",
    "pred_cv = clf_calibrated.predict_proba(sent_vectors)[:,1]\n",
    "#pred_cv = np.argmax(log_pred,axis = 1)\n",
    "print('alpha value = ',0.01)\n",
    "fpr, tpr, thresholds = roc_curve(y_tr,pred_cv)\n",
    "roc_auc_cv = auc(fpr, tpr)\n",
    "print('Area under the ROC curve : %f', + roc_auc_cv)\n",
    "\n",
    "#Plotting confusion matrix\n",
    "import seaborn as sns\n",
    "conf_mat = confusion_matrix(y_tr, cclf)\n",
    "print(conf_mat)\n",
    "#conf_normalized = conf_mat.astype('int') / conf_mat.sum(axis=1)[:, np.newaxis]\n",
    "sns.heatmap(conf_mat, annot=True, fmt ='g')\n",
    "plt.ylabel('True label')\n",
    "plt.xlabel('Predicted label')"
   ]
  },
  {
   "cell_type": "code",
   "execution_count": 48,
   "metadata": {},
   "outputs": [
    {
     "name": "stdout",
     "output_type": "stream",
     "text": [
      "Area under the ROC curve : %f 0.5\n",
      "[[    0  2776]\n",
      " [    0 14779]]\n"
     ]
    },
    {
     "data": {
      "text/plain": [
       "<matplotlib.legend.Legend at 0x4a80f9b0>"
      ]
     },
     "execution_count": 48,
     "metadata": {},
     "output_type": "execute_result"
    },
    {
     "data": {
      "image/png": "[encoded data removed]",
      "text/plain": [
       "<Figure size 432x288 with 2 Axes>"
      ]
     },
     "metadata": {
      "needs_background": "light"
     },
     "output_type": "display_data"
    },
    {
     "data": {
      "image/png": "[encoded data removed]",
      "text/plain": [
       "<Figure size 432x288 with 1 Axes>"
      ]
     },
     "metadata": {
      "needs_background": "light"
     },
     "output_type": "display_data"
    }
   ],
   "source": [
    "# After finding the best hyperparameter value for AVG W2V, applying Decision tree on train dataset and predicting\n",
    "# accuracy/AUC score for test dataset\n",
    "from sklearn import svm\n",
    "from sklearn.model_selection import GridSearchCV\n",
    "from sklearn.svm import LinearSVC\n",
    "from sklearn import linear_model\n",
    "from sklearn.calibration import CalibratedClassifierCV,calibration_curve\n",
    "clf = linear_model.SGDClassifier(alpha = 0.01,loss='hinge',penalty='l2', random_state=0,class_weight = \"balanced\")\n",
    "scoring = {'AUC': 'roc_auc'}\n",
    "clf.fit(sent_vectors,y_tr)\n",
    "\n",
    "#Caliberate the classifier.\n",
    "clf_calibrated=CalibratedClassifierCV(clf, cv='prefit', method='isotonic')\n",
    "cclf = clf_calibrated.fit(sent_vectors, y_tr).predict(sent_vectors_test)\n",
    "pred_test = clf_calibrated.predict_proba(sent_vectors_test)[:,1]\n",
    "fpr, tpr, thresholds = roc_curve(y_test,pred_test)\n",
    "roc_auc_test = auc(fpr, tpr)\n",
    "print('Area under the ROC curve : %f', + roc_auc_test)\n",
    "\n",
    "#Plotting confusion matrix\n",
    "import seaborn as sns\n",
    "conf_mat = confusion_matrix(y_test, cclf)\n",
    "print(conf_mat)\n",
    "#conf_normalized = conf_mat.astype('int') / conf_mat.sum(axis=1)[:, np.newaxis]\n",
    "sns.heatmap(conf_mat, annot=True, fmt ='g')\n",
    "plt.ylabel('True label')\n",
    "plt.xlabel('Predicted label')\n",
    "\n",
    "#Plot ROC Curve\n",
    "plt.figure(0).clf()\n",
    "fpr, tpr, thresholds = roc_curve(y_test,pred_test)\n",
    "roc_auc_test = auc(fpr, tpr)\n",
    "plt.plot(fpr,tpr,label=\"Test Data, auc=\"+str(roc_auc_test))\n",
    "\n",
    "fpr, tpr, thresh = roc_curve(y_tr, pred_cv)\n",
    "roc_auc_cv = auc(fpr, tpr)\n",
    "plt.plot(fpr,tpr,label=\"Train Data, auc=\"+str(roc_auc_cv))\n",
    "plt.title('ROC curve for Train and Test Dataset - BOW')\n",
    "plt.xlabel('True Positive Rate')\n",
    "plt.ylabel('False Positive Rate')\n",
    "plt.legend(loc=0)"
   ]
  },
  {
   "cell_type": "markdown",
   "metadata": {},
   "source": [
    "### [5.1.4]  Applying Linear SVM on TFIDF W2V,<font color='red'> SET 4</font>"
   ]
  },
  {
   "cell_type": "code",
   "execution_count": 49,
   "metadata": {},
   "outputs": [
    {
     "name": "stdout",
     "output_type": "stream",
     "text": [
      "GridSearchCV(cv='warn', error_score='raise-deprecating',\n",
      "       estimator=SGDClassifier(alpha=0.0001, average=False, class_weight='balanced',\n",
      "       early_stopping=False, epsilon=0.1, eta0=0.0, fit_intercept=True,\n",
      "       l1_ratio=0.15, learning_rate='optimal', loss='hinge', max_iter=None,\n",
      "       n_iter=None, n_iter_no_change=5, n_jobs=None, penalty='l2',\n",
      "       power_t=0.5, random_state=0, shuffle=True, tol=None,\n",
      "       validation_fraction=0.1, verbose=0, warm_start=False),\n",
      "       fit_params=None, iid='warn', n_jobs=None,\n",
      "       param_grid={'alpha': array([1.e-05, 1.e-04, 1.e-03, 1.e-02, 1.e+00, 1.e+01, 1.e+02, 1.e+03])},\n",
      "       pre_dispatch='2*n_jobs', refit='AUC', return_train_score='warn',\n",
      "       scoring={'AUC': 'roc_auc'}, verbose=0)\n",
      "0.01\n"
     ]
    }
   ],
   "source": [
    "# Please write all the code with proper documentation\n",
    "from sklearn import svm\n",
    "from sklearn.model_selection import GridSearchCV\n",
    "from sklearn.svm import LinearSVC\n",
    "from sklearn import linear_model\n",
    "from sklearn.calibration import CalibratedClassifierCV,calibration_curve\n",
    "alphas = np.array([0.00001, 0.0001, 0.001, 0.01, 1, 10, 100, 1000])\n",
    "base_estimator = linear_model.SGDClassifier(loss='hinge',penalty='l2', random_state=0, class_weight=\"balanced\")\n",
    "scoring = {'AUC': 'roc_auc'}\n",
    "grid = GridSearchCV(estimator=base_estimator,param_grid=dict(alpha=alphas),scoring = scoring, refit = 'AUC')\n",
    "grid.fit(tfidf_sent_vectors, y_tr) \n",
    "print(grid)\n",
    "# summarize the results of the grid search\n",
    "(grid.best_score_)\n",
    "print(grid.best_estimator_.alpha)\n",
    "results_tfidf_w2v_tr = grid.cv_results_ \n",
    "#print(results)"
   ]
  },
  {
   "cell_type": "code",
   "execution_count": 50,
   "metadata": {},
   "outputs": [
    {
     "name": "stdout",
     "output_type": "stream",
     "text": [
      "GridSearchCV(cv='warn', error_score='raise-deprecating',\n",
      "       estimator=SGDClassifier(alpha=0.0001, average=False, class_weight='balanced',\n",
      "       early_stopping=False, epsilon=0.1, eta0=0.0, fit_intercept=True,\n",
      "       l1_ratio=0.15, learning_rate='optimal', loss='hinge', max_iter=None,\n",
      "       n_iter=None, n_iter_no_change=5, n_jobs=None, penalty='l2',\n",
      "       power_t=0.5, random_state=0, shuffle=True, tol=None,\n",
      "       validation_fraction=0.1, verbose=0, warm_start=False),\n",
      "       fit_params=None, iid='warn', n_jobs=None,\n",
      "       param_grid={'alpha': array([1.e-05, 1.e-04, 1.e-03, 1.e-02, 1.e+00, 1.e+01, 1.e+02, 1.e+03])},\n",
      "       pre_dispatch='2*n_jobs', refit='AUC', return_train_score='warn',\n",
      "       scoring={'AUC': 'roc_auc'}, verbose=0)\n",
      "0.01\n"
     ]
    }
   ],
   "source": [
    "# Please write all the code with proper documentation\n",
    "from sklearn import svm\n",
    "from sklearn.model_selection import GridSearchCV\n",
    "from sklearn.svm import LinearSVC\n",
    "from sklearn import linear_model\n",
    "from sklearn.calibration import CalibratedClassifierCV,calibration_curve\n",
    "alphas = np.array([0.00001, 0.0001, 0.001, 0.01, 1, 10, 100, 1000])\n",
    "base_estimator = linear_model.SGDClassifier(loss='hinge',penalty='l2', random_state=0, class_weight=\"balanced\")\n",
    "scoring = {'AUC': 'roc_auc'}\n",
    "grid = GridSearchCV(estimator=base_estimator,param_grid=dict(alpha=alphas),scoring = scoring, refit = 'AUC')\n",
    "grid.fit(tfidf_sent_vectors_cv, y_cv) \n",
    "print(grid)\n",
    "# summarize the results of the grid search\n",
    "(grid.best_score_)\n",
    "print(grid.best_estimator_.alpha)\n",
    "results_tfidf_w2v_cv = grid.cv_results_ \n",
    "#print(results)"
   ]
  },
  {
   "cell_type": "code",
   "execution_count": 51,
   "metadata": {},
   "outputs": [
    {
     "data": {
      "image/png": "[encoded data removed]",
      "text/plain": [
       "<Figure size 936x936 with 1 Axes>"
      ]
     },
     "metadata": {
      "needs_background": "light"
     },
     "output_type": "display_data"
    }
   ],
   "source": [
    "#Performance over alpha hyperparameter\n",
    "plt.figure(figsize=(13, 13))\n",
    "plt.title(\"Performance of TFIDF W2V Linear SVM over alpha hyperparameter\",\n",
    "          fontsize=16)\n",
    "X_axis = np.array(results_tfidf_w2v_tr['param_alpha'].data, dtype=float)\n",
    "Y_axis_train = results_tfidf_w2v_tr['mean_train_AUC']\n",
    "Y_axis_CV = results_tfidf_w2v_tr['mean_test_AUC']\n",
    "ax = plt.gca()\n",
    "ax.set_xscale('log')\n",
    "curve1, = ax.plot(X_axis, Y_axis_train, label=\"Train AUC\", color='r')\n",
    "curve2, = ax.plot(X_axis, Y_axis_CV, label=\"CV AUC\", color='b')\n",
    "curves = [curve1, curve2]\n",
    "ax.legend()\n",
    "ax.set_ylabel(\"Score\")\n",
    "ax.set_xlabel(\"Alpha Hyperparameter\")\n",
    "ax.tick_params(axis='y', colors=curve1.get_color())\n",
    "ax.tick_params(axis='y', colors=curve2.get_color())\n",
    "#ax.plot(X_axis,Y_axis_CV)\n",
    "#plt.legend(loc=\"best\")\n",
    "plt.grid()\n",
    "plt.show()"
   ]
  },
  {
   "cell_type": "code",
   "execution_count": 53,
   "metadata": {},
   "outputs": [
    {
     "name": "stdout",
     "output_type": "stream",
     "text": [
      "Area under the ROC curve : %f 0.8746821900390697\n",
      "[[ 3444  5600]\n",
      " [ 1682 45448]]\n"
     ]
    },
    {
     "data": {
      "text/plain": [
       "Text(0.5, 15.0, 'Predicted label')"
      ]
     },
     "execution_count": 53,
     "metadata": {},
     "output_type": "execute_result"
    },
    {
     "data": {
      "image/png": "[encoded data removed]",
      "text/plain": [
       "<Figure size 432x288 with 2 Axes>"
      ]
     },
     "metadata": {
      "needs_background": "light"
     },
     "output_type": "display_data"
    }
   ],
   "source": [
    "# After finding the best hyperparameter value for TFIDF W2V which is 0.01, applying linear SVM on train dataset and predicting\n",
    "# accuracy/AUC score for cv dataset\n",
    "from sklearn import svm\n",
    "from sklearn.model_selection import GridSearchCV\n",
    "from sklearn.svm import LinearSVC\n",
    "from sklearn import linear_model\n",
    "from sklearn.calibration import CalibratedClassifierCV,calibration_curve\n",
    "clf = linear_model.SGDClassifier(alpha = 0.001,loss='hinge',penalty='l2', random_state=0, class_weight=\"balanced\")\n",
    "scoring = {'AUC': 'roc_auc'}\n",
    "clf.fit(tfidf_sent_vectors,y_tr)\n",
    "\n",
    "#Caliberate the classifier.\n",
    "clf_calibrated=CalibratedClassifierCV(clf, cv='prefit', method='isotonic')\n",
    "cclf = clf_calibrated.fit(tfidf_sent_vectors, y_tr).predict(tfidf_sent_vectors) \n",
    "pred_cv = clf_calibrated.predict_proba(tfidf_sent_vectors)[:,1]\n",
    "fpr, tpr, thresholds = roc_curve(y_tr,pred_cv)\n",
    "roc_auc_cv = auc(fpr, tpr)\n",
    "print('Area under the ROC curve : %f', + roc_auc_cv)\n",
    "\n",
    "#Plotting confusion matrix\n",
    "import seaborn as sns\n",
    "conf_mat = confusion_matrix(y_tr, cclf)\n",
    "print(conf_mat)\n",
    "#conf_normalized = conf_mat.astype('int') / conf_mat.sum(axis=1)[:, np.newaxis]\n",
    "sns.heatmap(conf_mat, annot=True, fmt ='g')\n",
    "plt.ylabel('True label')\n",
    "plt.xlabel('Predicted label')\n",
    "\n"
   ]
  },
  {
   "cell_type": "code",
   "execution_count": 54,
   "metadata": {},
   "outputs": [
    {
     "name": "stdout",
     "output_type": "stream",
     "text": [
      "alpha value =  0.01\n",
      "Area under the ROC curve : %f 0.8695322175148046\n",
      "[[ 1063  1713]\n",
      " [  524 14255]]\n"
     ]
    },
    {
     "data": {
      "text/plain": [
       "<matplotlib.legend.Legend at 0x453c7908>"
      ]
     },
     "execution_count": 54,
     "metadata": {},
     "output_type": "execute_result"
    },
    {
     "data": {
      "image/png": "[encoded data removed]",
      "text/plain": [
       "<Figure size 432x288 with 2 Axes>"
      ]
     },
     "metadata": {
      "needs_background": "light"
     },
     "output_type": "display_data"
    },
    {
     "data": {
      "image/png": "[encoded data removed]",
      "text/plain": [
       "<Figure size 432x288 with 1 Axes>"
      ]
     },
     "metadata": {
      "needs_background": "light"
     },
     "output_type": "display_data"
    }
   ],
   "source": [
    "# After finding the best hyperparameter value for TFIDF W2V which is 0.01, applying linear SVM on train dataset and predicting\n",
    "# accuracy/AUC score for test dataset\n",
    "from sklearn import svm\n",
    "from sklearn.model_selection import GridSearchCV\n",
    "from sklearn.svm import LinearSVC\n",
    "from sklearn import linear_model\n",
    "from sklearn.calibration import CalibratedClassifierCV,calibration_curve\n",
    "clf = linear_model.SGDClassifier(alpha = 0.001,loss='hinge',penalty='l2', random_state=0, class_weight='balanced')\n",
    "scoring = {'AUC': 'roc_auc'}\n",
    "clf.fit(tfidf_sent_vectors,y_tr)\n",
    "\n",
    "#Caliberate the classifier.\n",
    "clf_calibrated=CalibratedClassifierCV(clf, cv='prefit', method='isotonic')\n",
    "cclf = clf_calibrated.fit(tfidf_sent_vectors, y_tr).predict(tfidf_sent_vectors_test)\n",
    "pred_test = clf_calibrated.predict_proba(tfidf_sent_vectors_test)[:,1]\n",
    "#pred_test = np.argmax(log_pred,axis = 1)\n",
    "print('alpha value = ',0.01)\n",
    "fpr, tpr, thresholds = roc_curve(y_test,pred_test)\n",
    "roc_auc_test = auc(fpr, tpr)\n",
    "print('Area under the ROC curve : %f', + roc_auc_test)\n",
    "\n",
    "#Plotting confusion matrix\n",
    "import seaborn as sns\n",
    "conf_mat = confusion_matrix(y_test, cclf)\n",
    "print(conf_mat)\n",
    "#conf_normalized = conf_mat.astype('int') / conf_mat.sum(axis=1)[:, np.newaxis]\n",
    "sns.heatmap(conf_mat, annot=True, fmt ='g')\n",
    "plt.ylabel('True label')\n",
    "plt.xlabel('Predicted label')\n",
    "\n",
    "#Plot ROC Curve\n",
    "plt.figure(0).clf()\n",
    "fpr, tpr, thresholds = roc_curve(y_test,pred_test)\n",
    "roc_auc_test = auc(fpr, tpr)\n",
    "plt.plot(fpr,tpr,label=\"Test Data, auc=\"+str(roc_auc_test))\n",
    "\n",
    "fpr, tpr, thresh = roc_curve(y_tr, pred_cv)\n",
    "roc_auc_cv = auc(fpr, tpr)\n",
    "plt.plot(fpr,tpr,label=\"Train Data, auc=\"+str(roc_auc_cv))\n",
    "plt.title('ROC curve for Train and Test Dataset - BOW')\n",
    "plt.xlabel('True Positive Rate')\n",
    "plt.ylabel('False Positive Rate')\n",
    "plt.legend(loc=0)\n"
   ]
  },
  {
   "cell_type": "markdown",
   "metadata": {},
   "source": [
    "## [5.2] RBF SVM"
   ]
  },
  {
   "cell_type": "markdown",
   "metadata": {},
   "source": [
    "### [5.2.1] Applying RBF SVM on BOW,<font color='red'> SET 1</font>"
   ]
  },
  {
   "cell_type": "code",
   "execution_count": 3,
   "metadata": {},
   "outputs": [],
   "source": [
    "# Please write all the code with proper documentation"
   ]
  },
  {
   "cell_type": "markdown",
   "metadata": {},
   "source": [
    "### [5.2.2] Applying RBF SVM on TFIDF,<font color='red'> SET 2</font>"
   ]
  },
  {
   "cell_type": "code",
   "execution_count": 3,
   "metadata": {},
   "outputs": [],
   "source": [
    "# Please write all the code with proper documentation"
   ]
  },
  {
   "cell_type": "markdown",
   "metadata": {},
   "source": [
    "### [5.2.3]  Applying RBF SVM on AVG W2V,<font color='red'> SET 3</font>"
   ]
  },
  {
   "cell_type": "code",
   "execution_count": 3,
   "metadata": {},
   "outputs": [],
   "source": [
    "# Please write all the code with proper documentation"
   ]
  },
  {
   "cell_type": "markdown",
   "metadata": {},
   "source": [
    "### [5.2.4]  Applying RBF SVM on TFIDF W2V,<font color='red'> SET 4</font>"
   ]
  },
  {
   "cell_type": "code",
   "execution_count": 3,
   "metadata": {},
   "outputs": [],
   "source": [
    "# Please write all the code with proper documentation"
   ]
  },
  {
   "cell_type": "markdown",
   "metadata": {},
   "source": [
    "# [6] Conclusions"
   ]
  },
  {
   "cell_type": "code",
   "execution_count": 55,
   "metadata": {},
   "outputs": [
    {
     "name": "stdout",
     "output_type": "stream",
     "text": [
      "+----------------------------+-------------+------+\n",
      "|           model            | alpha value | ROC  |\n",
      "+----------------------------+-------------+------+\n",
      "|    Linear SVM using BoW    |    1e-05    | 0.81 |\n",
      "|   Linear SVM using TFIDF   |    1e-05    | 0.86 |\n",
      "|  Linear SVM using AVG W2V  |     0.01    | 0.5  |\n",
      "| Linear SVM using TFIDF W2V |     0.01    | 0.86 |\n",
      "+----------------------------+-------------+------+\n"
     ]
    }
   ],
   "source": [
    "# Please compare all your models using Prettytable library\n",
    "\n",
    "from prettytable import PrettyTable\n",
    "table = PrettyTable([\"model\",\"alpha value\",\"ROC\"])\n",
    "table.add_row([\"Linear SVM using BoW\", \"1e-05\",\"0.81\"])\n",
    "table.add_row([\"Linear SVM using TFIDF\", \"1e-05\",\"0.86\"])\n",
    "table.add_row([\"Linear SVM using AVG W2V\", \"0.01\",\"0.5\"])\n",
    "table.add_row([\"Linear SVM using TFIDF W2V\", \"0.01\",\"0.86\"])\n",
    "print(table)"
   ]
  },
  {
   "cell_type": "markdown",
   "metadata": {},
   "source": [
    "Observation:\n",
    "\n",
    "Overall, linear SVM works well when BOW/TFIDF/TFIDF W2V is used. While using Average W2V vectorization technique, though accuracy is 85%, AUC score is very low 0.5. This in turn overfits the data, misclassifying entire negative class as positive, since majority data points are positive."
   ]
  }
 ],
 "metadata": {
  "kernelspec": {
   "display_name": "Python 3",
   "language": "python",
   "name": "python3"
  },
  "language_info": {
   "codemirror_mode": {
    "name": "ipython",
    "version": 3
   },
   "file_extension": ".py",
   "mimetype": "text/x-python",
   "name": "python",
   "nbconvert_exporter": "python",
   "pygments_lexer": "ipython3",
   "version": "3.6.7"
  }
 },
 "nbformat": 4,
 "nbformat_minor": 2
}
